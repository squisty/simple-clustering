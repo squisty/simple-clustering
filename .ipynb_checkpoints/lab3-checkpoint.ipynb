{
 "cells": [
  {
   "cell_type": "markdown",
   "metadata": {},
   "source": [
    "# Word Embeddings, T-SNE, and Bias in NLP"
   ]
  },
  {
   "cell_type": "markdown",
   "metadata": {},
   "source": [
    "## Imports <a name=\"im\"></a>"
   ]
  },
  {
   "cell_type": "code",
   "execution_count": 2,
   "metadata": {},
   "outputs": [],
   "source": [
    "import os\n",
    "\n",
    "%matplotlib inline\n",
    "import string\n",
    "\n",
    "import matplotlib.pyplot as plt\n",
    "import numpy as np\n",
    "import pandas as pd\n",
    "\n",
    "pd.set_option(\"display.max_colwidth\", 0)"
   ]
  },
  {
   "cell_type": "markdown",
   "metadata": {},
   "source": [
    "<br><br>"
   ]
  },
  {
   "cell_type": "markdown",
   "metadata": {},
   "source": [
    "## Exploring pre-trained word embeddings\n",
    "<hr>\n",
    "\n",
    "Here I will use pre-trained word embeddings from the [GloVe](https://nlp.stanford.edu/pubs/glove.pdf) algorithm. The specific embeddings I will look at are trained on a corpus from Wikipedia, found [here](https://nlp.stanford.edu/projects/glove/). I plan to explore these pre-trained embeddings to find explore word relatedness and analogies."
   ]
  },
  {
   "cell_type": "code",
   "execution_count": 3,
   "metadata": {},
   "outputs": [
    {
     "name": "stdout",
     "output_type": "stream",
     "text": [
      "['fasttext-wiki-news-subwords-300', 'conceptnet-numberbatch-17-06-300', 'word2vec-ruscorpora-300', 'word2vec-google-news-300', 'glove-wiki-gigaword-50', 'glove-wiki-gigaword-100', 'glove-wiki-gigaword-200', 'glove-wiki-gigaword-300', 'glove-twitter-25', 'glove-twitter-50', 'glove-twitter-100', 'glove-twitter-200', '__testing_word2vec-matrix-synopsis']\n"
     ]
    }
   ],
   "source": [
    "import gensim\n",
    "import gensim.downloader\n",
    "\n",
    "print(list(gensim.downloader.info()[\"models\"].keys()))"
   ]
  },
  {
   "cell_type": "markdown",
   "metadata": {},
   "source": [
    "I will be using the GloVe Wikipedia vectors, which has the key `glove-wiki-gigaword-100`."
   ]
  },
  {
   "cell_type": "code",
   "execution_count": 4,
   "metadata": {},
   "outputs": [],
   "source": [
    "import gensim.downloader as api\n",
    "\n",
    "glove_wiki_vectors = api.load(\n",
    "    \"glove-wiki-gigaword-100\"\n",
    ")"
   ]
  },
  {
   "cell_type": "code",
   "execution_count": 5,
   "metadata": {},
   "outputs": [
    {
     "data": {
      "text/plain": [
       "400000"
      ]
     },
     "execution_count": 5,
     "metadata": {},
     "output_type": "execute_result"
    }
   ],
   "source": [
    "len(glove_wiki_vectors)"
   ]
  },
  {
   "cell_type": "markdown",
   "metadata": {},
   "source": [
    "There are 400,000 word vectors in these pre-trained model. "
   ]
  },
  {
   "cell_type": "code",
   "execution_count": 6,
   "metadata": {},
   "outputs": [
    {
     "data": {
      "text/plain": [
       "(100,)"
      ]
     },
     "execution_count": 6,
     "metadata": {},
     "output_type": "execute_result"
    }
   ],
   "source": [
    "glove_wiki_vectors[\"learning\"].shape"
   ]
  },
  {
   "cell_type": "markdown",
   "metadata": {},
   "source": [
    "Each vector is 100 dimensional, and below you can see most similar words to the word _learning_."
   ]
  },
  {
   "cell_type": "code",
   "execution_count": 7,
   "metadata": {},
   "outputs": [
    {
     "data": {
      "text/plain": [
       "[('teaching', 0.7720069289207458),\n",
       " ('knowledge', 0.76064133644104),\n",
       " ('experience', 0.7378624677658081),\n",
       " ('skills', 0.7343750596046448),\n",
       " ('learn', 0.7340658903121948),\n",
       " ('understanding', 0.699902355670929),\n",
       " ('education', 0.6989467740058899),\n",
       " ('educational', 0.6864885687828064),\n",
       " ('lessons', 0.681064784526825),\n",
       " ('studying', 0.6762653589248657)]"
      ]
     },
     "execution_count": 7,
     "metadata": {},
     "output_type": "execute_result"
    }
   ],
   "source": [
    "glove_wiki_vectors.most_similar(\"learning\")"
   ]
  },
  {
   "cell_type": "markdown",
   "metadata": {},
   "source": [
    "<br><br>"
   ]
  },
  {
   "cell_type": "markdown",
   "metadata": {},
   "source": [
    "### Word relatedness using cosine similarity"
   ]
  },
  {
   "cell_type": "code",
   "execution_count": 8,
   "metadata": {},
   "outputs": [],
   "source": [
    "word_pairs = [\n",
    "    (\"coast\", \"shore\"), # Expect high similarity\n",
    "    (\"clothes\", \"closet\"), # Expect high sim.\n",
    "    (\"old\", \"new\"), # Expect decently high sim.\n",
    "    (\"smart\", \"intelligent\"), # Expect high sim.\n",
    "    (\"dog\", \"cat\"), # Expect high sim.\n",
    "    (\"tree\", \"lawyer\"), # Expect low sim.\n",
    "]"
   ]
  },
  {
   "cell_type": "code",
   "execution_count": 9,
   "metadata": {},
   "outputs": [
    {
     "name": "stdout",
     "output_type": "stream",
     "text": [
      "Similarity between coast and shore is 0.700\n",
      "Similarity between clothes and closet is 0.546\n",
      "Similarity between old and new is 0.643\n",
      "Similarity between smart and intelligent is 0.755\n",
      "Similarity between dog and cat is 0.880\n",
      "Similarity between tree and lawyer is 0.077\n"
     ]
    }
   ],
   "source": [
    "for pair in word_pairs:\n",
    "    print(\"Similarity between %s and %s is %.3F\" \n",
    "         % (pair[0], pair[1], glove_wiki_vectors.similarity(pair[0],pair[1])))\n",
    "    "
   ]
  },
  {
   "cell_type": "markdown",
   "metadata": {},
   "source": [
    "The model appears to score the word pairs effectively, as words that I know to be similar were given high cosine similarity scores, while the word pair _tree_ and _lawyer_ scored quite low as they are not very similar in any context."
   ]
  },
  {
   "cell_type": "markdown",
   "metadata": {},
   "source": [
    "<br><br>"
   ]
  },
  {
   "cell_type": "markdown",
   "metadata": {},
   "source": [
    "### Finding words that don't belong\n",
    "\n",
    "Using the `doesnt_match` method from the word vectors class, the model can effectively determine which word has the word vector furthest away from the other three words."
   ]
  },
  {
   "cell_type": "code",
   "execution_count": 10,
   "metadata": {},
   "outputs": [
    {
     "name": "stdout",
     "output_type": "stream",
     "text": [
      "plane\n",
      "crimson\n",
      "ninety\n"
     ]
    }
   ],
   "source": [
    "print(glove_wiki_vectors.doesnt_match(\"car bicycle plane skateboard\".split()))\n",
    "print(glove_wiki_vectors.doesnt_match(\"blue red green crimson\".split()))\n",
    "print(glove_wiki_vectors.doesnt_match(\"one two three ninety\".split()))"
   ]
  },
  {
   "cell_type": "markdown",
   "metadata": {},
   "source": [
    "The words that I intended to be outliers compared to the other words were all picked up, which is reassuring to see."
   ]
  },
  {
   "cell_type": "markdown",
   "metadata": {},
   "source": [
    "<br><br>"
   ]
  },
  {
   "cell_type": "markdown",
   "metadata": {},
   "source": [
    "### Visualizing similar words\n",
    "\n",
    "Here I will visualize the vector space that word embeddings reside in, hopefully seeing that similar words are closer together and non-similar words are further apart. I will have to do some dimensionality reduction as the current embeddings are in 100-dimensional space. I will test two reduction methods, the linear principle component analysis method as well as the non-linear t-SNE method."
   ]
  },
  {
   "cell_type": "code",
   "execution_count": 11,
   "metadata": {},
   "outputs": [],
   "source": [
    "# Create words and labels.\n",
    "\n",
    "categories = [\"english\", \"apple\", \"intelligence\", \"hockey\", \"cobain\", \"pca\"]\n",
    "subset_words = []\n",
    "\n",
    "labels = []\n",
    "j = 0\n",
    "for cat in categories:\n",
    "    subset_words.append(cat)\n",
    "    labels.append(j)\n",
    "    for similar_word, _ in glove_wiki_vectors.most_similar(cat, topn=10):\n",
    "        subset_words.append(similar_word)\n",
    "        labels.append(j)\n",
    "    j += 1"
   ]
  },
  {
   "cell_type": "code",
   "execution_count": 12,
   "metadata": {},
   "outputs": [
    {
     "data": {
      "text/html": [
       "<div>\n",
       "<style scoped>\n",
       "    .dataframe tbody tr th:only-of-type {\n",
       "        vertical-align: middle;\n",
       "    }\n",
       "\n",
       "    .dataframe tbody tr th {\n",
       "        vertical-align: top;\n",
       "    }\n",
       "\n",
       "    .dataframe thead th {\n",
       "        text-align: right;\n",
       "    }\n",
       "</style>\n",
       "<table border=\"1\" class=\"dataframe\">\n",
       "  <thead>\n",
       "    <tr style=\"text-align: right;\">\n",
       "      <th></th>\n",
       "      <th>0</th>\n",
       "      <th>1</th>\n",
       "      <th>2</th>\n",
       "      <th>3</th>\n",
       "      <th>4</th>\n",
       "      <th>5</th>\n",
       "      <th>6</th>\n",
       "      <th>7</th>\n",
       "      <th>8</th>\n",
       "      <th>9</th>\n",
       "      <th>...</th>\n",
       "      <th>90</th>\n",
       "      <th>91</th>\n",
       "      <th>92</th>\n",
       "      <th>93</th>\n",
       "      <th>94</th>\n",
       "      <th>95</th>\n",
       "      <th>96</th>\n",
       "      <th>97</th>\n",
       "      <th>98</th>\n",
       "      <th>99</th>\n",
       "    </tr>\n",
       "  </thead>\n",
       "  <tbody>\n",
       "    <tr>\n",
       "      <th>english</th>\n",
       "      <td>-0.05386</td>\n",
       "      <td>0.446860</td>\n",
       "      <td>0.250770</td>\n",
       "      <td>0.069087</td>\n",
       "      <td>-0.299940</td>\n",
       "      <td>1.10950</td>\n",
       "      <td>0.029171</td>\n",
       "      <td>-1.08110</td>\n",
       "      <td>-0.43389</td>\n",
       "      <td>0.502380</td>\n",
       "      <td>...</td>\n",
       "      <td>-0.49669</td>\n",
       "      <td>-0.24979</td>\n",
       "      <td>0.02899</td>\n",
       "      <td>0.87748</td>\n",
       "      <td>-0.56759</td>\n",
       "      <td>0.121130</td>\n",
       "      <td>-0.612610</td>\n",
       "      <td>-0.23581</td>\n",
       "      <td>0.167250</td>\n",
       "      <td>-0.29405</td>\n",
       "    </tr>\n",
       "    <tr>\n",
       "      <th>welsh</th>\n",
       "      <td>-0.32721</td>\n",
       "      <td>0.278950</td>\n",
       "      <td>-0.003277</td>\n",
       "      <td>-0.608470</td>\n",
       "      <td>-0.238010</td>\n",
       "      <td>0.60569</td>\n",
       "      <td>-0.351510</td>\n",
       "      <td>-0.60151</td>\n",
       "      <td>-0.63245</td>\n",
       "      <td>-0.268170</td>\n",
       "      <td>...</td>\n",
       "      <td>-0.66202</td>\n",
       "      <td>-0.42692</td>\n",
       "      <td>-0.35276</td>\n",
       "      <td>1.06300</td>\n",
       "      <td>-0.58287</td>\n",
       "      <td>0.108040</td>\n",
       "      <td>-0.225330</td>\n",
       "      <td>0.13710</td>\n",
       "      <td>0.040706</td>\n",
       "      <td>-0.40040</td>\n",
       "    </tr>\n",
       "    <tr>\n",
       "      <th>language</th>\n",
       "      <td>0.18519</td>\n",
       "      <td>0.341110</td>\n",
       "      <td>0.360970</td>\n",
       "      <td>0.270930</td>\n",
       "      <td>-0.031335</td>\n",
       "      <td>0.83923</td>\n",
       "      <td>-0.505340</td>\n",
       "      <td>-0.80062</td>\n",
       "      <td>0.40695</td>\n",
       "      <td>0.824880</td>\n",
       "      <td>...</td>\n",
       "      <td>0.13560</td>\n",
       "      <td>0.09430</td>\n",
       "      <td>-0.24154</td>\n",
       "      <td>0.71230</td>\n",
       "      <td>-0.42010</td>\n",
       "      <td>0.247350</td>\n",
       "      <td>-0.944490</td>\n",
       "      <td>-1.07940</td>\n",
       "      <td>0.341300</td>\n",
       "      <td>0.34704</td>\n",
       "    </tr>\n",
       "    <tr>\n",
       "      <th>irish</th>\n",
       "      <td>-0.18177</td>\n",
       "      <td>0.430810</td>\n",
       "      <td>0.330500</td>\n",
       "      <td>-0.342800</td>\n",
       "      <td>-0.154820</td>\n",
       "      <td>1.12950</td>\n",
       "      <td>0.025862</td>\n",
       "      <td>-1.21580</td>\n",
       "      <td>-0.50898</td>\n",
       "      <td>-0.155890</td>\n",
       "      <td>...</td>\n",
       "      <td>-0.86785</td>\n",
       "      <td>-0.56849</td>\n",
       "      <td>-0.76525</td>\n",
       "      <td>0.62210</td>\n",
       "      <td>-0.94863</td>\n",
       "      <td>-0.261130</td>\n",
       "      <td>-0.151510</td>\n",
       "      <td>0.60873</td>\n",
       "      <td>0.339210</td>\n",
       "      <td>-0.13511</td>\n",
       "    </tr>\n",
       "    <tr>\n",
       "      <th>scottish</th>\n",
       "      <td>-0.58938</td>\n",
       "      <td>-0.056929</td>\n",
       "      <td>0.342550</td>\n",
       "      <td>-0.124950</td>\n",
       "      <td>0.302700</td>\n",
       "      <td>0.77937</td>\n",
       "      <td>-0.057956</td>\n",
       "      <td>-0.99580</td>\n",
       "      <td>-1.25450</td>\n",
       "      <td>-0.094012</td>\n",
       "      <td>...</td>\n",
       "      <td>-0.60198</td>\n",
       "      <td>-0.75949</td>\n",
       "      <td>-0.50064</td>\n",
       "      <td>0.84948</td>\n",
       "      <td>-0.44227</td>\n",
       "      <td>0.033158</td>\n",
       "      <td>-0.071143</td>\n",
       "      <td>0.51388</td>\n",
       "      <td>0.205080</td>\n",
       "      <td>-1.05190</td>\n",
       "    </tr>\n",
       "  </tbody>\n",
       "</table>\n",
       "<p>5 rows × 100 columns</p>\n",
       "</div>"
      ],
      "text/plain": [
       "                0         1         2         3         4        5         6  \\\n",
       "english  -0.05386  0.446860  0.250770  0.069087 -0.299940  1.10950  0.029171   \n",
       "welsh    -0.32721  0.278950 -0.003277 -0.608470 -0.238010  0.60569 -0.351510   \n",
       "language  0.18519  0.341110  0.360970  0.270930 -0.031335  0.83923 -0.505340   \n",
       "irish    -0.18177  0.430810  0.330500 -0.342800 -0.154820  1.12950  0.025862   \n",
       "scottish -0.58938 -0.056929  0.342550 -0.124950  0.302700  0.77937 -0.057956   \n",
       "\n",
       "                7        8         9  ...       90       91       92       93  \\\n",
       "english  -1.08110 -0.43389  0.502380  ... -0.49669 -0.24979  0.02899  0.87748   \n",
       "welsh    -0.60151 -0.63245 -0.268170  ... -0.66202 -0.42692 -0.35276  1.06300   \n",
       "language -0.80062  0.40695  0.824880  ...  0.13560  0.09430 -0.24154  0.71230   \n",
       "irish    -1.21580 -0.50898 -0.155890  ... -0.86785 -0.56849 -0.76525  0.62210   \n",
       "scottish -0.99580 -1.25450 -0.094012  ... -0.60198 -0.75949 -0.50064  0.84948   \n",
       "\n",
       "               94        95        96       97        98       99  \n",
       "english  -0.56759  0.121130 -0.612610 -0.23581  0.167250 -0.29405  \n",
       "welsh    -0.58287  0.108040 -0.225330  0.13710  0.040706 -0.40040  \n",
       "language -0.42010  0.247350 -0.944490 -1.07940  0.341300  0.34704  \n",
       "irish    -0.94863 -0.261130 -0.151510  0.60873  0.339210 -0.13511  \n",
       "scottish -0.44227  0.033158 -0.071143  0.51388  0.205080 -1.05190  \n",
       "\n",
       "[5 rows x 100 columns]"
      ]
     },
     "execution_count": 12,
     "metadata": {},
     "output_type": "execute_result"
    }
   ],
   "source": [
    "embeddings_df = pd.DataFrame(data=glove_wiki_vectors[subset_words], index=subset_words)\n",
    "embeddings_df.head()"
   ]
  },
  {
   "cell_type": "code",
   "execution_count": 13,
   "metadata": {},
   "outputs": [
    {
     "data": {
      "text/plain": [
       "(66, 100)"
      ]
     },
     "execution_count": 13,
     "metadata": {},
     "output_type": "execute_result"
    }
   ],
   "source": [
    "embeddings_df.shape # 66 words in 100-dimension vector space"
   ]
  },
  {
   "cell_type": "code",
   "execution_count": 14,
   "metadata": {},
   "outputs": [
    {
     "data": {
      "image/png": "[encoded data removed]",
      "text/plain": [
       "<Figure size 864x576 with 1 Axes>"
      ]
     },
     "metadata": {
      "needs_background": "light"
     },
     "output_type": "display_data"
    }
   ],
   "source": [
    "# Linear dimensionality reduction using principle component analysis\n",
    "\n",
    "from sklearn.decomposition import PCA\n",
    "pca = PCA(n_components=2) # Reduce down to 2 dimensions\n",
    "pca.fit(embeddings_df)\n",
    "emb_pca = pd.DataFrame(pca.transform(embeddings_df), index=embeddings_df.index)\n",
    "\n",
    "fig, ax = plt.subplots()\n",
    "fig.set_size_inches(12,8)\n",
    "ax.scatter(emb_pca.iloc[:,0], emb_pca.iloc[:,1])\n",
    "for i, txt in enumerate(emb_pca.index):\n",
    "    ax.annotate(txt, (emb_pca.iloc[i,0], emb_pca.iloc[i,1]))"
   ]
  },
  {
   "cell_type": "markdown",
   "metadata": {},
   "source": [
    "The word vectors can now be represented in 2d space, as shown above. The reduction seems to have kept the appropriate spacing for the embeddings, as similar words are close together and non-similar words are further apart. There are some outliers, like \"english\" being closer to \"defense\" than \"irish\" or \"scottish\". I suspect the reason for this has to do with the initial model training and the use of \"english\" in phrases that discuss politics."
   ]
  },
  {
   "cell_type": "code",
   "execution_count": 15,
   "metadata": {},
   "outputs": [
    {
     "name": "stderr",
     "output_type": "stream",
     "text": [
      "/Users/samquist/miniconda3/envs/563/lib/python3.9/site-packages/sklearn/manifold/_t_sne.py:780: FutureWarning: The default initialization in TSNE will change from 'random' to 'pca' in 1.2.\n",
      "  warnings.warn(\n",
      "/Users/samquist/miniconda3/envs/563/lib/python3.9/site-packages/sklearn/manifold/_t_sne.py:790: FutureWarning: The default learning rate in TSNE will change from 200.0 to 'auto' in 1.2.\n",
      "  warnings.warn(\n"
     ]
    },
    {
     "data": {
      "image/png": "[encoded data removed]",
      "text/plain": [
       "<Figure size 864x576 with 1 Axes>"
      ]
     },
     "metadata": {
      "needs_background": "light"
     },
     "output_type": "display_data"
    }
   ],
   "source": [
    "# Non-linear reduction using t-SNE\n",
    "\n",
    "from sklearn.manifold import TSNE\n",
    "\n",
    "tsne = TSNE(n_components=2) # Reduce down to 2 dimensions\n",
    "tsne_df = pd.DataFrame(tsne.fit_transform(embeddings_df), index=embeddings_df.index)\n",
    "\n",
    "fig, ax = plt.subplots()\n",
    "fig.set_size_inches(12,8)\n",
    "ax.scatter(tsne_df.iloc[:,0], tsne_df.iloc[:,1])\n",
    "for i, txt in enumerate(tsne_df.index):\n",
    "    ax.annotate(txt, (tsne_df.iloc[i,0], tsne_df.iloc[i,1]))"
   ]
  },
  {
   "cell_type": "markdown",
   "metadata": {},
   "source": [
    "The groups in t-SNE appear to be more evenly spaced, and the groups can easily been seen. For example, there is a software group, a musical artist group and a sports group while in the PCA plot the groups are not uniformly spaced. Furthermore, the PCA plot has numerous data points that are in-between groups or not in the most sensible group. For example, Welsh, Irish and Scottish are closer to \"games\" than \"English\". This representation is due to the distance between words being proportionate to the probability that the words are related, which is how the t-SNE algorithm reduces dimensionality."
   ]
  },
  {
   "cell_type": "markdown",
   "metadata": {},
   "source": [
    "<br><br>"
   ]
  },
  {
   "cell_type": "markdown",
   "metadata": {},
   "source": [
    "## Stereotypes and biases in word embeddings\n",
    "<hr>"
   ]
  },
  {
   "cell_type": "markdown",
   "metadata": {},
   "source": [
    "Stereotypes and biases in natural language processing can cause many issues, like discrimination in job applicants due to specific language used on a resume. This next section will explore biases that are still present despite the pre-trained embeddings being de-biased."
   ]
  },
  {
   "cell_type": "markdown",
   "metadata": {},
   "source": [
    "### Exploring existing stereotypes and biases in embeddings\n"
   ]
  },
  {
   "cell_type": "markdown",
   "metadata": {},
   "source": [
    "An example of using word analogies to explore biases and stereotypes."
   ]
  },
  {
   "cell_type": "code",
   "execution_count": 18,
   "metadata": {},
   "outputs": [],
   "source": [
    "# Create function for analogy comparison\n",
    "def analogy(word1, word2, word3, model=glove_wiki_vectors):\n",
    "    \"\"\"\n",
    "    Returns analogy word using the given model.\n",
    "\n",
    "    Parameters\n",
    "    --------------\n",
    "    word1 : (str)\n",
    "        word1 in the analogy relation\n",
    "    word2 : (str)\n",
    "        word2 in the analogy relation\n",
    "    word3 : (str)\n",
    "        word3 in the analogy relation\n",
    "    model :\n",
    "        word embedding model\n",
    "\n",
    "    Returns\n",
    "    ---------------\n",
    "        pd.dataframe\n",
    "    \"\"\"\n",
    "    print(\"%s : %s :: %s : ?\" % (word1, word2, word3))\n",
    "    sim_words = model.most_similar(positive=[word3, word2], negative=[word1])\n",
    "    return pd.DataFrame(sim_words, columns=[\"Analogy word\", \"Score\"])"
   ]
  },
  {
   "cell_type": "markdown",
   "metadata": {},
   "source": [
    "#### Analogy biases"
   ]
  },
  {
   "cell_type": "code",
   "execution_count": 19,
   "metadata": {},
   "outputs": [
    {
     "name": "stdout",
     "output_type": "stream",
     "text": [
      "man : doctor :: woman : ?\n"
     ]
    },
    {
     "data": {
      "text/html": [
       "<div>\n",
       "<style scoped>\n",
       "    .dataframe tbody tr th:only-of-type {\n",
       "        vertical-align: middle;\n",
       "    }\n",
       "\n",
       "    .dataframe tbody tr th {\n",
       "        vertical-align: top;\n",
       "    }\n",
       "\n",
       "    .dataframe thead th {\n",
       "        text-align: right;\n",
       "    }\n",
       "</style>\n",
       "<table border=\"1\" class=\"dataframe\">\n",
       "  <thead>\n",
       "    <tr style=\"text-align: right;\">\n",
       "      <th></th>\n",
       "      <th>Analogy word</th>\n",
       "      <th>Score</th>\n",
       "    </tr>\n",
       "  </thead>\n",
       "  <tbody>\n",
       "    <tr>\n",
       "      <th>0</th>\n",
       "      <td>nurse</td>\n",
       "      <td>0.773523</td>\n",
       "    </tr>\n",
       "    <tr>\n",
       "      <th>1</th>\n",
       "      <td>physician</td>\n",
       "      <td>0.718943</td>\n",
       "    </tr>\n",
       "    <tr>\n",
       "      <th>2</th>\n",
       "      <td>doctors</td>\n",
       "      <td>0.682433</td>\n",
       "    </tr>\n",
       "    <tr>\n",
       "      <th>3</th>\n",
       "      <td>patient</td>\n",
       "      <td>0.675068</td>\n",
       "    </tr>\n",
       "    <tr>\n",
       "      <th>4</th>\n",
       "      <td>dentist</td>\n",
       "      <td>0.672603</td>\n",
       "    </tr>\n",
       "    <tr>\n",
       "      <th>5</th>\n",
       "      <td>pregnant</td>\n",
       "      <td>0.664246</td>\n",
       "    </tr>\n",
       "    <tr>\n",
       "      <th>6</th>\n",
       "      <td>medical</td>\n",
       "      <td>0.652045</td>\n",
       "    </tr>\n",
       "    <tr>\n",
       "      <th>7</th>\n",
       "      <td>nursing</td>\n",
       "      <td>0.645348</td>\n",
       "    </tr>\n",
       "    <tr>\n",
       "      <th>8</th>\n",
       "      <td>mother</td>\n",
       "      <td>0.639333</td>\n",
       "    </tr>\n",
       "    <tr>\n",
       "      <th>9</th>\n",
       "      <td>hospital</td>\n",
       "      <td>0.638750</td>\n",
       "    </tr>\n",
       "  </tbody>\n",
       "</table>\n",
       "</div>"
      ],
      "text/plain": [
       "  Analogy word     Score\n",
       "0  nurse        0.773523\n",
       "1  physician    0.718943\n",
       "2  doctors      0.682433\n",
       "3  patient      0.675068\n",
       "4  dentist      0.672603\n",
       "5  pregnant     0.664246\n",
       "6  medical      0.652045\n",
       "7  nursing      0.645348\n",
       "8  mother       0.639333\n",
       "9  hospital     0.638750"
      ]
     },
     "execution_count": 19,
     "metadata": {},
     "output_type": "execute_result"
    }
   ],
   "source": [
    "analogy(\"man\", \"doctor\", \"woman\")"
   ]
  },
  {
   "cell_type": "markdown",
   "metadata": {},
   "source": [
    "Notice the bias that \"woman\" corresponds with \"nurse\" more than \"doctor\" given that \"man\" is correlated to \"doctor\"."
   ]
  },
  {
   "cell_type": "code",
   "execution_count": 22,
   "metadata": {
    "tags": []
   },
   "outputs": [
    {
     "name": "stdout",
     "output_type": "stream",
     "text": [
      "man : smart :: woman : ?\n"
     ]
    },
    {
     "data": {
      "text/html": [
       "<div>\n",
       "<style scoped>\n",
       "    .dataframe tbody tr th:only-of-type {\n",
       "        vertical-align: middle;\n",
       "    }\n",
       "\n",
       "    .dataframe tbody tr th {\n",
       "        vertical-align: top;\n",
       "    }\n",
       "\n",
       "    .dataframe thead th {\n",
       "        text-align: right;\n",
       "    }\n",
       "</style>\n",
       "<table border=\"1\" class=\"dataframe\">\n",
       "  <thead>\n",
       "    <tr style=\"text-align: right;\">\n",
       "      <th></th>\n",
       "      <th>Analogy word</th>\n",
       "      <th>Score</th>\n",
       "    </tr>\n",
       "  </thead>\n",
       "  <tbody>\n",
       "    <tr>\n",
       "      <th>0</th>\n",
       "      <td>intelligent</td>\n",
       "      <td>0.654885</td>\n",
       "    </tr>\n",
       "    <tr>\n",
       "      <th>1</th>\n",
       "      <td>sexy</td>\n",
       "      <td>0.597897</td>\n",
       "    </tr>\n",
       "    <tr>\n",
       "      <th>2</th>\n",
       "      <td>sophisticated</td>\n",
       "      <td>0.574362</td>\n",
       "    </tr>\n",
       "    <tr>\n",
       "      <th>3</th>\n",
       "      <td>mom</td>\n",
       "      <td>0.557256</td>\n",
       "    </tr>\n",
       "    <tr>\n",
       "      <th>4</th>\n",
       "      <td>cute</td>\n",
       "      <td>0.549813</td>\n",
       "    </tr>\n",
       "    <tr>\n",
       "      <th>5</th>\n",
       "      <td>kids</td>\n",
       "      <td>0.540299</td>\n",
       "    </tr>\n",
       "    <tr>\n",
       "      <th>6</th>\n",
       "      <td>pretty</td>\n",
       "      <td>0.530862</td>\n",
       "    </tr>\n",
       "    <tr>\n",
       "      <th>7</th>\n",
       "      <td>savvy</td>\n",
       "      <td>0.530233</td>\n",
       "    </tr>\n",
       "    <tr>\n",
       "      <th>8</th>\n",
       "      <td>innovative</td>\n",
       "      <td>0.530197</td>\n",
       "    </tr>\n",
       "    <tr>\n",
       "      <th>9</th>\n",
       "      <td>attractive</td>\n",
       "      <td>0.528517</td>\n",
       "    </tr>\n",
       "  </tbody>\n",
       "</table>\n",
       "</div>"
      ],
      "text/plain": [
       "    Analogy word     Score\n",
       "0  intelligent    0.654885\n",
       "1  sexy           0.597897\n",
       "2  sophisticated  0.574362\n",
       "3  mom            0.557256\n",
       "4  cute           0.549813\n",
       "5  kids           0.540299\n",
       "6  pretty         0.530862\n",
       "7  savvy          0.530233\n",
       "8  innovative     0.530197\n",
       "9  attractive     0.528517"
      ]
     },
     "execution_count": 22,
     "metadata": {},
     "output_type": "execute_result"
    }
   ],
   "source": [
    "analogy(\"man\", \"smart\", \"woman\")"
   ]
  },
  {
   "cell_type": "markdown",
   "metadata": {},
   "source": [
    "Here is another example of analogy bias, where this time the first suggestion is not as biased as the previous example. The difference here is the second suggestion, which implies that \"man\" is to \"smart\" as \"woman\" is to \"sexy\". "
   ]
  },
  {
   "cell_type": "code",
   "execution_count": 25,
   "metadata": {},
   "outputs": [
    {
     "name": "stdout",
     "output_type": "stream",
     "text": [
      "man : strong :: woman : ?\n"
     ]
    },
    {
     "data": {
      "text/html": [
       "<div>\n",
       "<style scoped>\n",
       "    .dataframe tbody tr th:only-of-type {\n",
       "        vertical-align: middle;\n",
       "    }\n",
       "\n",
       "    .dataframe tbody tr th {\n",
       "        vertical-align: top;\n",
       "    }\n",
       "\n",
       "    .dataframe thead th {\n",
       "        text-align: right;\n",
       "    }\n",
       "</style>\n",
       "<table border=\"1\" class=\"dataframe\">\n",
       "  <thead>\n",
       "    <tr style=\"text-align: right;\">\n",
       "      <th></th>\n",
       "      <th>Analogy word</th>\n",
       "      <th>Score</th>\n",
       "    </tr>\n",
       "  </thead>\n",
       "  <tbody>\n",
       "    <tr>\n",
       "      <th>0</th>\n",
       "      <td>stronger</td>\n",
       "      <td>0.726966</td>\n",
       "    </tr>\n",
       "    <tr>\n",
       "      <th>1</th>\n",
       "      <td>weak</td>\n",
       "      <td>0.657428</td>\n",
       "    </tr>\n",
       "    <tr>\n",
       "      <th>2</th>\n",
       "      <td>robust</td>\n",
       "      <td>0.644944</td>\n",
       "    </tr>\n",
       "    <tr>\n",
       "      <th>3</th>\n",
       "      <td>strongest</td>\n",
       "      <td>0.634013</td>\n",
       "    </tr>\n",
       "    <tr>\n",
       "      <th>4</th>\n",
       "      <td>despite</td>\n",
       "      <td>0.631509</td>\n",
       "    </tr>\n",
       "    <tr>\n",
       "      <th>5</th>\n",
       "      <td>support</td>\n",
       "      <td>0.627726</td>\n",
       "    </tr>\n",
       "    <tr>\n",
       "      <th>6</th>\n",
       "      <td>growing</td>\n",
       "      <td>0.625404</td>\n",
       "    </tr>\n",
       "    <tr>\n",
       "      <th>7</th>\n",
       "      <td>concern</td>\n",
       "      <td>0.605287</td>\n",
       "    </tr>\n",
       "    <tr>\n",
       "      <th>8</th>\n",
       "      <td>particularly</td>\n",
       "      <td>0.603681</td>\n",
       "    </tr>\n",
       "    <tr>\n",
       "      <th>9</th>\n",
       "      <td>reflected</td>\n",
       "      <td>0.600039</td>\n",
       "    </tr>\n",
       "  </tbody>\n",
       "</table>\n",
       "</div>"
      ],
      "text/plain": [
       "   Analogy word     Score\n",
       "0  stronger      0.726966\n",
       "1  weak          0.657428\n",
       "2  robust        0.644944\n",
       "3  strongest     0.634013\n",
       "4  despite       0.631509\n",
       "5  support       0.627726\n",
       "6  growing       0.625404\n",
       "7  concern       0.605287\n",
       "8  particularly  0.603681\n",
       "9  reflected     0.600039"
      ]
     },
     "execution_count": 25,
     "metadata": {},
     "output_type": "execute_result"
    }
   ],
   "source": [
    "analogy(\"man\", \"strong\", \"woman\")"
   ]
  },
  {
   "cell_type": "markdown",
   "metadata": {},
   "source": [
    "This final analogy example shows again that the first suggestion is not terrible in terms of discrimination or showing bias, but the second and following suggestions are. "
   ]
  },
  {
   "cell_type": "markdown",
   "metadata": {},
   "source": [
    "#### Similarity bias"
   ]
  },
  {
   "cell_type": "code",
   "execution_count": 16,
   "metadata": {},
   "outputs": [
    {
     "name": "stdout",
     "output_type": "stream",
     "text": [
      "0.4408384\n",
      "0.50771147\n"
     ]
    }
   ],
   "source": [
    "print(glove_wiki_vectors.similarity(\"white\", \"poor\"))\n",
    "print(glove_wiki_vectors.similarity(\"black\", \"poor\"))"
   ]
  },
  {
   "cell_type": "markdown",
   "metadata": {},
   "source": [
    "Here we can see that the model is biased when it comes to showing similarity scores, as according to the embeddings, \"black\" is more similar to \"poor\" than \"white\" is. "
   ]
  },
  {
   "cell_type": "code",
   "execution_count": 23,
   "metadata": {},
   "outputs": [
    {
     "name": "stdout",
     "output_type": "stream",
     "text": [
      "0.46977922\n",
      "0.3507729\n"
     ]
    }
   ],
   "source": [
    "print(glove_wiki_vectors.similarity(\"man\", \"rich\"))\n",
    "print(glove_wiki_vectors.similarity(\"woman\", \"rich\"))"
   ]
  },
  {
   "cell_type": "markdown",
   "metadata": {},
   "source": [
    "Once again the model shows bias when two groups are compared to a single descriptive property."
   ]
  },
  {
   "cell_type": "code",
   "execution_count": 24,
   "metadata": {},
   "outputs": [
    {
     "name": "stdout",
     "output_type": "stream",
     "text": [
      "0.6737176\n",
      "0.5527537\n"
     ]
    }
   ],
   "source": [
    "print(glove_wiki_vectors.similarity(\"man\", \"kind\"))\n",
    "print(glove_wiki_vectors.similarity(\"woman\", \"kind\"))"
   ]
  },
  {
   "cell_type": "markdown",
   "metadata": {},
   "source": [
    "Our model seems to have some quantifiable issues here when in comes to innate bias. All 3 adjectives were picked because they are neutral descriptors, with no underlying assumptions for uses. Despite this neutrality the model shows a bias towards \"man\" over \"woman\", and \"white\" over \"black\". This can cause a number of issues were this model to be used in commercial or public setting, as those groups that are discriminated against right now would continue to be discriminated against due to the model. Some solutions for this issue could be manually adjusting the embedding values, setting a similarity threshold that eliminates the difference between similarity or analogy values, or using the model in areas where these biases would not have any effect on those that are shown to be discriminated against. I am not a domain expert so the last suggestion may be impossible in practice."
   ]
  },
  {
   "cell_type": "markdown",
   "metadata": {},
   "source": [
    "<br><br>"
   ]
  },
  {
   "cell_type": "markdown",
   "metadata": {},
   "source": [
    "## Building new embeddings, comparing Word2Vec and fastText\n",
    "<hr>"
   ]
  },
  {
   "cell_type": "markdown",
   "metadata": {},
   "source": [
    "Here I will compare how the popular NLP models `Word2Vec` and `fastText` handle making new word embeddings. The training corpus I will use is a small subset of a corpus of [biomedical abstracts downloaded from PMC](https://www.kaggle.com/cvltmao/pmc-articles?select=a_b.csv). The objective here is to see how each model picks up new words that have not been seen before and "
   ]
  },
  {
   "cell_type": "code",
   "execution_count": 17,
   "metadata": {},
   "outputs": [],
   "source": [
    "df = pd.read_csv(\"a_b.csv\")\n",
    "df = df.dropna()\n",
    "df_subset = df.sample(5000, random_state=42)"
   ]
  },
  {
   "cell_type": "code",
   "execution_count": 18,
   "metadata": {},
   "outputs": [
    {
     "data": {
      "text/html": [
       "<div>\n",
       "<style scoped>\n",
       "    .dataframe tbody tr th:only-of-type {\n",
       "        vertical-align: middle;\n",
       "    }\n",
       "\n",
       "    .dataframe tbody tr th {\n",
       "        vertical-align: top;\n",
       "    }\n",
       "\n",
       "    .dataframe thead th {\n",
       "        text-align: right;\n",
       "    }\n",
       "</style>\n",
       "<table border=\"1\" class=\"dataframe\">\n",
       "  <thead>\n",
       "    <tr style=\"text-align: right;\">\n",
       "      <th></th>\n",
       "      <th>article_id</th>\n",
       "      <th>abstract</th>\n",
       "    </tr>\n",
       "  </thead>\n",
       "  <tbody>\n",
       "    <tr>\n",
       "      <th>129637</th>\n",
       "      <td>PMC3537527</td>\n",
       "      <td>Esophageal squamous cell carcinoma (ESCC) shows a 5-year survival rate below 10%, demonstrating the urgency in improving its treatment. Alterations in epidermal growth factor receptors are closely related to malignancy transformation in a number of tumors and recent successful targeted therapies have been directed to these molecules. Therefore, in this study, we analyzed the expression of EGFR and HER2 and evaluated  mutation profile as well as the presence of mutations in hotspots of  and  in ESCC patients. We performed RT-qPCR, immunohistochemistry and Fluorescent  hybridization to determine EGFR and HER2 expression in ESCC patients, and direct sequencing and PCR-RFLP for mutations and polymorphism analysis Our results showed an increased  mRNA expression in tumors compared to surrounding tissue (p &lt;0.05), with 11% of the cases presenting at least a four-fold difference between tumor and paired adjacent mucosa. EGFR protein overexpression was present only in 4% of the cases. The median expression of  mRNA was not different between tumors and adjacent mucosa. Still, 7% of the tumors presented at least a 25-fold higher expression of this gene when compared to its paired counterpart. Immunohistochemical analysis revealed that 21% of the tumors were positive for HER2 (scores 2+ and 3+), although only 3+ tumors presented amplification of this gene. Mutation analysis for  (exons 18-21),  (codons 12 and 13) and  (V600E) showed no mutations in any of the hotspots of these genes in almost 100 patients analyzed.  presented synonymous polymorphisms at codon 836 (C&gt;T) in 2.1% of the patients, and at codon 787 (G&gt;A) in 79.2% of the cases. This last polymorphism was also evaluated in 304 healthy controls, which presented a similar frequency (73.7%) in comparison with ESCC patients. The absence of mutations of ,  and  as well as the overexpression of EGFR and HER2 in less than 10% of the patients suggest that this signaling pathway is altered in only a small proportion of patients with ESCC. HER receptors target therapies may have the potential to be effective in only a minor fraction of patients with ESCC.</td>\n",
       "    </tr>\n",
       "    <tr>\n",
       "      <th>234041</th>\n",
       "      <td>PMC2711088</td>\n",
       "      <td>Asthma is the most common chronic disease in childhood, characterized by chronic airway inflammation. There are problems with the diagnosis of asthma in young children since the majority of the children with recurrent asthma-like symptoms is symptom free at 6 years, and does not have asthma. With the conventional diagnostic tools it is not possible to differentiate between preschool children with transient symptoms and children with asthma. The analysis of biomarkers of airway inflammation in exhaled breath is a non-invasive and promising technique to diagnose asthma and monitor inflammation in young children. Moreover, relatively new lung function tests (airway resistance using the interrupter technique) have become available for young children. The primary objective of the ADEM study (Asthma DEtection and Monitoring study), is to develop a non-invasive instrument for an early asthma diagnosis in young children, using exhaled inflammatory markers and early lung function measurements. In addition, aetiological factors, including gene polymorphisms and gene expression profiles, in relation to the development of asthma are studied. A prospective case-control study is started in 200 children with recurrent respiratory symptoms and 50 control subjects without respiratory symptoms. At 6 years, a definite diagnosis of asthma is made (primary outcome measure) on basis of lung function assessments and current respiratory symptoms ('golden standard'). From inclusion until the definite asthma diagnosis, repeated measurements of lung function tests and inflammatory markers in exhaled breath (condensate), blood and faeces are performed. The study is registered and ethically approved. This article describes the study protocol of the ADEM study. The new diagnostic techniques applied in this study could make an early diagnosis of asthma possible. An early and reliable asthma diagnosis at 2–3 years will have consequences for the management of the large group of young children with asthma-like symptoms. It will avoid both over-treatment of children with transient wheeze and under-treatment of children with asthma. This might have a beneficial influence on the prognosis of asthma in these young children. Besides, insight into the pathophysiology and aetiology of asthma will be obtained. This study is registered by clinicaltrials.gov (NCT00422747).</td>\n",
       "    </tr>\n",
       "    <tr>\n",
       "      <th>212447</th>\n",
       "      <td>PMC5007694</td>\n",
       "      <td>Reports of central corneal thickness (CCT) among glaucoma patients, particularly for pseudoexfoliative glaucoma (PXG) and Primary Angle Closure Glaucoma (PACG) are scarce in the Sub-Saharan African (SSA) population. The aim of this study is to evaluate CCT in black patients with newly diagnosed glaucoma and ocular hypertension (OHT) in South West Ethiopia. This was a prospective study undertaken with an ultrasonic pachymeter from June 2014 to February 2015 in Jimma University Specialized Hospital. Patients aged 18 years and older newly diagnosed with glaucoma or OHT were included. For the whole sample, CCT was 518.67 (±39.97) μm. OHT group had significantly greater CCT (576.33 ± 49.32 μm) than the glaucomatous groups ( = 0.004). POAG (506.69 ± 35.08 μm) and NTG (510.79 ± 44.37 μm) groups had thinner CCT than PXG (520.48 ± 38.95 μm), PACG (524.00 ± 37.16 μm), and JOAG (518.00 ± 30.82 μm) groups, but this was not statistically significant ( = 0. 296). There was a statistically significant decline of CCT with advanced age ( = 0.02). There wasn’t significant difference of average CCT between the ethnic groups ( = 0.3) and gender ( = 0.064). The mean CCT of Ethiopian glaucoma patients is thinner than Caucasians and similar to those reported from previous studies in Sub Saharan Africa. OHT patients had thicker CCT; there was no statistically significant difference observed in average CCT amongst glaucoma subtypes.</td>\n",
       "    </tr>\n",
       "    <tr>\n",
       "      <th>21100</th>\n",
       "      <td>PMC3007460</td>\n",
       "      <td>In the title compound, CHNO\\n               ·NO\\n               , the cation is essentially planar with C—O—C—C and C—O—C—O torsion angles of −178.1 (2) and 2.1 (4)°, respectively. In the crystal, N—H⋯O and C—H⋯O hydrogen-bond inter­actions stabilize the structure.</td>\n",
       "    </tr>\n",
       "    <tr>\n",
       "      <th>237436</th>\n",
       "      <td>PMC3599346</td>\n",
       "      <td>Taking into account our rapidly ageing population, older people are of particular interest in studying health inequalities. Most studies of older persons only include measures of current socioeconomic status (SES) and do not take into account data from earlier stages of life. In addition, only classic SES measures are used, while alternative measures, such as car ownership and house ownership, might equally well predict health. The present study aims to examine the effect of midlife socioeconomic factors on mobility limitation and depressed mood three decades later. Data were from 4,809 men and women aged 33–65 years who participated in the Reykjavik Study (1967–1992) and who were re-examined in old age in the Age, Gene/Environment Susceptibility (AGES) -Reykjavik Study (2002–2006). Education and occupation predicted mobility limitation and depressed mood. Independently, home and car ownership and the availability of housing features predicted mobility limitation. Shortages of food in childhood and lack of a car in midlife predicted depressed mood. Socioeconomic factors from midlife and from childhood affect mobility limitation and depressed mood in old age. Prevention of health problems in old age should begin as early as midlife.</td>\n",
       "    </tr>\n",
       "  </tbody>\n",
       "</table>\n",
       "</div>"
      ],
      "text/plain": [
       "        article_id  \\\n",
       "129637  PMC3537527   \n",
       "234041  PMC2711088   \n",
       "212447  PMC5007694   \n",
       "21100   PMC3007460   \n",
       "237436  PMC3599346   \n",
       "\n",
       "                                                                                                                                                                                                                                                                                                                                                                                                                                                                                                                                                                                                                                                                                                                                                                                                                                                                                                                                                                                                                                                                                                                                                                                                                                                                                                                                                                                                                                                                                                                                                                                                                                                                                                                                                                                                                                                                                                                                                                                                                                                                                                                                                                                                                                                                                                                                                                                                                                                                   abstract  \n",
       "129637  Esophageal squamous cell carcinoma (ESCC) shows a 5-year survival rate below 10%, demonstrating the urgency in improving its treatment. Alterations in epidermal growth factor receptors are closely related to malignancy transformation in a number of tumors and recent successful targeted therapies have been directed to these molecules. Therefore, in this study, we analyzed the expression of EGFR and HER2 and evaluated  mutation profile as well as the presence of mutations in hotspots of  and  in ESCC patients. We performed RT-qPCR, immunohistochemistry and Fluorescent  hybridization to determine EGFR and HER2 expression in ESCC patients, and direct sequencing and PCR-RFLP for mutations and polymorphism analysis Our results showed an increased  mRNA expression in tumors compared to surrounding tissue (p <0.05), with 11% of the cases presenting at least a four-fold difference between tumor and paired adjacent mucosa. EGFR protein overexpression was present only in 4% of the cases. The median expression of  mRNA was not different between tumors and adjacent mucosa. Still, 7% of the tumors presented at least a 25-fold higher expression of this gene when compared to its paired counterpart. Immunohistochemical analysis revealed that 21% of the tumors were positive for HER2 (scores 2+ and 3+), although only 3+ tumors presented amplification of this gene. Mutation analysis for  (exons 18-21),  (codons 12 and 13) and  (V600E) showed no mutations in any of the hotspots of these genes in almost 100 patients analyzed.  presented synonymous polymorphisms at codon 836 (C>T) in 2.1% of the patients, and at codon 787 (G>A) in 79.2% of the cases. This last polymorphism was also evaluated in 304 healthy controls, which presented a similar frequency (73.7%) in comparison with ESCC patients. The absence of mutations of ,  and  as well as the overexpression of EGFR and HER2 in less than 10% of the patients suggest that this signaling pathway is altered in only a small proportion of patients with ESCC. HER receptors target therapies may have the potential to be effective in only a minor fraction of patients with ESCC.                                                                                                                                                                                                                                                  \n",
       "234041  Asthma is the most common chronic disease in childhood, characterized by chronic airway inflammation. There are problems with the diagnosis of asthma in young children since the majority of the children with recurrent asthma-like symptoms is symptom free at 6 years, and does not have asthma. With the conventional diagnostic tools it is not possible to differentiate between preschool children with transient symptoms and children with asthma. The analysis of biomarkers of airway inflammation in exhaled breath is a non-invasive and promising technique to diagnose asthma and monitor inflammation in young children. Moreover, relatively new lung function tests (airway resistance using the interrupter technique) have become available for young children. The primary objective of the ADEM study (Asthma DEtection and Monitoring study), is to develop a non-invasive instrument for an early asthma diagnosis in young children, using exhaled inflammatory markers and early lung function measurements. In addition, aetiological factors, including gene polymorphisms and gene expression profiles, in relation to the development of asthma are studied. A prospective case-control study is started in 200 children with recurrent respiratory symptoms and 50 control subjects without respiratory symptoms. At 6 years, a definite diagnosis of asthma is made (primary outcome measure) on basis of lung function assessments and current respiratory symptoms ('golden standard'). From inclusion until the definite asthma diagnosis, repeated measurements of lung function tests and inflammatory markers in exhaled breath (condensate), blood and faeces are performed. The study is registered and ethically approved. This article describes the study protocol of the ADEM study. The new diagnostic techniques applied in this study could make an early diagnosis of asthma possible. An early and reliable asthma diagnosis at 2–3 years will have consequences for the management of the large group of young children with asthma-like symptoms. It will avoid both over-treatment of children with transient wheeze and under-treatment of children with asthma. This might have a beneficial influence on the prognosis of asthma in these young children. Besides, insight into the pathophysiology and aetiology of asthma will be obtained. This study is registered by clinicaltrials.gov (NCT00422747).  \n",
       "212447  Reports of central corneal thickness (CCT) among glaucoma patients, particularly for pseudoexfoliative glaucoma (PXG) and Primary Angle Closure Glaucoma (PACG) are scarce in the Sub-Saharan African (SSA) population. The aim of this study is to evaluate CCT in black patients with newly diagnosed glaucoma and ocular hypertension (OHT) in South West Ethiopia. This was a prospective study undertaken with an ultrasonic pachymeter from June 2014 to February 2015 in Jimma University Specialized Hospital. Patients aged 18 years and older newly diagnosed with glaucoma or OHT were included. For the whole sample, CCT was 518.67 (±39.97) μm. OHT group had significantly greater CCT (576.33 ± 49.32 μm) than the glaucomatous groups ( = 0.004). POAG (506.69 ± 35.08 μm) and NTG (510.79 ± 44.37 μm) groups had thinner CCT than PXG (520.48 ± 38.95 μm), PACG (524.00 ± 37.16 μm), and JOAG (518.00 ± 30.82 μm) groups, but this was not statistically significant ( = 0. 296). There was a statistically significant decline of CCT with advanced age ( = 0.02). There wasn’t significant difference of average CCT between the ethnic groups ( = 0.3) and gender ( = 0.064). The mean CCT of Ethiopian glaucoma patients is thinner than Caucasians and similar to those reported from previous studies in Sub Saharan Africa. OHT patients had thicker CCT; there was no statistically significant difference observed in average CCT amongst glaucoma subtypes.                                                                                                                                                                                                                                                                                                                                                                                                                                                                                                                                                                                                                                                                                                                                                                                                                                                                                                                                                                              \n",
       "21100   In the title compound, CHNO\\n               ·NO\\n               , the cation is essentially planar with C—O—C—C and C—O—C—O torsion angles of −178.1 (2) and 2.1 (4)°, respectively. In the crystal, N—H⋯O and C—H⋯O hydrogen-bond inter­actions stabilize the structure.                                                                                                                                                                                                                                                                                                                                                                                                                                                                                                                                                                                                                                                                                                                                                                                                                                                                                                                                                                                                                                                                                                                                                                                                                                                                                                                                                                                                                                                                                                                                                                                                                                                                                                                                                                                                                                                                                                                                                                                                                                                                                                                                                                                            \n",
       "237436  Taking into account our rapidly ageing population, older people are of particular interest in studying health inequalities. Most studies of older persons only include measures of current socioeconomic status (SES) and do not take into account data from earlier stages of life. In addition, only classic SES measures are used, while alternative measures, such as car ownership and house ownership, might equally well predict health. The present study aims to examine the effect of midlife socioeconomic factors on mobility limitation and depressed mood three decades later. Data were from 4,809 men and women aged 33–65 years who participated in the Reykjavik Study (1967–1992) and who were re-examined in old age in the Age, Gene/Environment Susceptibility (AGES) -Reykjavik Study (2002–2006). Education and occupation predicted mobility limitation and depressed mood. Independently, home and car ownership and the availability of housing features predicted mobility limitation. Shortages of food in childhood and lack of a car in midlife predicted depressed mood. Socioeconomic factors from midlife and from childhood affect mobility limitation and depressed mood in old age. Prevention of health problems in old age should begin as early as midlife.                                                                                                                                                                                                                                                                                                                                                                                                                                                                                                                                                                                                                                                                                                                                                                                                                                                                                                                                                                                                                                                                                                                                                                  "
      ]
     },
     "execution_count": 18,
     "metadata": {},
     "output_type": "execute_result"
    }
   ],
   "source": [
    "df_subset.head()"
   ]
  },
  {
   "cell_type": "code",
   "execution_count": 23,
   "metadata": {},
   "outputs": [
    {
     "name": "stderr",
     "output_type": "stream",
     "text": [
      "[nltk_data] Downloading package stopwords to\n",
      "[nltk_data]     /Users/samquist/nltk_data...\n",
      "[nltk_data]   Package stopwords is already up-to-date!\n"
     ]
    }
   ],
   "source": [
    "import nltk\n",
    "nltk.download('stopwords')\n",
    "from preprocessing import MyPreprocessor\n",
    "\n",
    "corpus = df_subset[\"abstract\"].tolist()\n",
    "sentences = MyPreprocessor(corpus)  # memory friendly iterator"
   ]
  },
  {
   "cell_type": "markdown",
   "metadata": {},
   "source": [
    "<br><br>"
   ]
  },
  {
   "cell_type": "markdown",
   "metadata": {},
   "source": [
    "###  Training `Word2Vec` and `fastText`"
   ]
  },
  {
   "cell_type": "code",
   "execution_count": 24,
   "metadata": {},
   "outputs": [],
   "source": [
    "from gensim.models import FastText, Word2Vec"
   ]
  },
  {
   "cell_type": "code",
   "execution_count": 25,
   "metadata": {},
   "outputs": [],
   "source": [
    "model = Word2Vec(sentences=sentences, vector_size=100, window=5, min_count=2) # Keep hyperparameters the same"
   ]
  },
  {
   "cell_type": "code",
   "execution_count": 27,
   "metadata": {},
   "outputs": [],
   "source": [
    "model2 = FastText(sentences=sentences, vector_size=100, window=5, min_count=2) # Keep hyperparameters the same"
   ]
  },
  {
   "cell_type": "markdown",
   "metadata": {},
   "source": [
    "### Comparison"
   ]
  },
  {
   "cell_type": "code",
   "execution_count": 36,
   "metadata": {},
   "outputs": [
    {
     "data": {
      "text/plain": [
       "(29910, 29910)"
      ]
     },
     "execution_count": 36,
     "metadata": {},
     "output_type": "execute_result"
    }
   ],
   "source": [
    "len(model.wv), len(model2.wv) # Comparing vocabulary size"
   ]
  },
  {
   "cell_type": "code",
   "execution_count": 60,
   "metadata": {},
   "outputs": [
    {
     "data": {
      "text/plain": [
       "[('usp39', 0.9350709319114685),\n",
       " ('brain', 0.9265483617782593),\n",
       " ('stem', 0.9031318426132202),\n",
       " ('carcinogenesis', 0.8986384868621826),\n",
       " ('angiogenesis', 0.8955050110816956),\n",
       " ('osteoblast', 0.8941336870193481),\n",
       " ('regenerate', 0.8931884169578552),\n",
       " ('androgen', 0.890606164932251),\n",
       " ('suppressor', 0.890519380569458),\n",
       " ('epithelial-to-mesenchymal', 0.8901906609535217)]"
      ]
     },
     "execution_count": 60,
     "metadata": {},
     "output_type": "execute_result"
    }
   ],
   "source": [
    "model.wv.most_similar('human')"
   ]
  },
  {
   "cell_type": "code",
   "execution_count": 61,
   "metadata": {},
   "outputs": [
    {
     "data": {
      "text/plain": [
       "[('human-to-human', 0.9870601892471313),\n",
       " ('hu', 0.961590588092804),\n",
       " ('human–animal', 0.9566490650177002),\n",
       " ('human-made', 0.9499544501304626),\n",
       " ('hub', 0.9273300170898438),\n",
       " ('carcinogenic', 0.9273297786712646),\n",
       " ('humans', 0.9271357655525208),\n",
       " ('tumorigenic', 0.925788164138794),\n",
       " ('cancellous', 0.9124723076820374),\n",
       " ('nonhuman', 0.9113366603851318)]"
      ]
     },
     "execution_count": 61,
     "metadata": {},
     "output_type": "execute_result"
    }
   ],
   "source": [
    "model2.wv.most_similar('human')"
   ]
  },
  {
   "cell_type": "markdown",
   "metadata": {},
   "source": [
    "The vectors created are weighed quite differently, as the word2vec model compares _human_ to various medical words, while the fastText model compares _human_ to other words containing \"human\". This makes sense as fastText breaks down words into smaller components and then creates embeddings for each component as opposed to word2vec which takes the entire word to create an embedding for."
   ]
  },
  {
   "cell_type": "markdown",
   "metadata": {},
   "source": [
    "<br><br>"
   ]
  },
  {
   "cell_type": "markdown",
   "metadata": {},
   "source": [
    "### Unknown words \n",
    "\n",
    "Below are some words that are not included in general pre-trained word embedding models as they are not common/new to the general vocabulary. I will compare how each model either contains or doesn't contain a vector representation for each word and I predict that the fastText model will perform better due to the word breakdown that occurs before word embedding in the model."
   ]
  },
  {
   "cell_type": "code",
   "execution_count": 62,
   "metadata": {},
   "outputs": [],
   "source": [
    "test_words = [\n",
    "    \"covididiot\",\n",
    "    \"fomo\",\n",
    "    \"frenemies\",\n",
    "    \"anthropause\",\n",
    "    \"photobomb\",\n",
    "    \"selfie\",\n",
    "    \"pxg\",  # Abbreviation for pseudoexfoliative glaucoma\n",
    "    \"pacg\",  # Abbreviation for primary angle closure glaucoma\n",
    "    \"cct\",  # Abbreviation for central corneal thickness\n",
    "    \"escc\",  # Abbreviation for esophageal squamous cell carcinoma\n",
    "]"
   ]
  },
  {
   "cell_type": "code",
   "execution_count": 64,
   "metadata": {},
   "outputs": [
    {
     "name": "stdout",
     "output_type": "stream",
     "text": [
      "covididiot is in word2vec model: False\n",
      "covididiot is in fastText model: True \n",
      "\n",
      "fomo is in word2vec model: False\n",
      "fomo is in fastText model: True \n",
      "\n",
      "frenemies is in word2vec model: False\n",
      "frenemies is in fastText model: True \n",
      "\n",
      "anthropause is in word2vec model: False\n",
      "anthropause is in fastText model: True \n",
      "\n",
      "photobomb is in word2vec model: False\n",
      "photobomb is in fastText model: True \n",
      "\n",
      "selfie is in word2vec model: False\n",
      "selfie is in fastText model: True \n",
      "\n",
      "pxg is in word2vec model: True\n",
      "pxg is in fastText model: True \n",
      "\n",
      "pacg is in word2vec model: True\n",
      "pacg is in fastText model: True \n",
      "\n",
      "cct is in word2vec model: True\n",
      "cct is in fastText model: True \n",
      "\n",
      "escc is in word2vec model: True\n",
      "escc is in fastText model: True \n",
      "\n"
     ]
    }
   ],
   "source": [
    "for word in test_words:\n",
    "    try:\n",
    "        model.wv['{}'.format(word)]\n",
    "        invec = True\n",
    "    except Exception:\n",
    "        invec = False\n",
    "    print(\"%s is in word2vec model: %r\" % (word, invec))\n",
    "    print(\"%s is in fastText model: %r \\n\" % (word, word in model2.wv))"
   ]
  },
  {
   "cell_type": "markdown",
   "metadata": {},
   "source": [
    "We can see above that all the medical abbreviations are present in the word2vec vocab, but the neolisms are not. In the fastText model, all of the words tested were in the vocabulary as fastText creates mini embeddings from larger words. This can be helpful in instances where the context of a broken-down word keeps its meaning, but in more general applications I would not want mini embeddings created as they would not carry the same sentiment and meaning as the entire word."
   ]
  }
 ],
 "metadata": {
  "kernelspec": {
   "display_name": "Python [conda env:563]",
   "language": "python",
   "name": "conda-env-563-py"
  },
  "language_info": {
   "codemirror_mode": {
    "name": "ipython",
    "version": 3
   },
   "file_extension": ".py",
   "mimetype": "text/x-python",
   "name": "python",
   "nbconvert_exporter": "python",
   "pygments_lexer": "ipython3",
   "version": "3.9.10"
  }
 },
 "nbformat": 4,
 "nbformat_minor": 4
}
