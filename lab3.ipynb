{
 "cells": [
  {
   "cell_type": "markdown",
   "metadata": {},
   "source": [
    "# Word Embeddings, T-SNE, and product Similarity using Word2Vec"
   ]
  },
  {
   "cell_type": "markdown",
   "metadata": {},
   "source": [
    "## Imports <a name=\"im\"></a>"
   ]
  },
  {
   "cell_type": "code",
   "execution_count": 1,
   "metadata": {},
   "outputs": [],
   "source": [
    "import os\n",
    "\n",
    "%matplotlib inline\n",
    "import string\n",
    "\n",
    "import matplotlib.pyplot as plt\n",
    "import numpy as np\n",
    "import pandas as pd\n",
    "\n",
    "pd.set_option(\"display.max_colwidth\", 0)"
   ]
  },
  {
   "cell_type": "markdown",
   "metadata": {},
   "source": [
    "## Exploring pre-trained word embeddings\n",
    "<hr>\n",
    "\n",
    "Here I will use pre-trained word embeddings from the [GloVe](https://nlp.stanford.edu/pubs/glove.pdf) algorithm. The specific embeddings I will look at are trained on a corpus from Wikipedia, found [here](https://nlp.stanford.edu/projects/glove/). I plan to explore these pre-trained embeddings to find explore word relatedness and analogies."
   ]
  },
  {
   "cell_type": "code",
   "execution_count": 2,
   "metadata": {},
   "outputs": [
    {
     "name": "stdout",
     "output_type": "stream",
     "text": [
      "['fasttext-wiki-news-subwords-300', 'conceptnet-numberbatch-17-06-300', 'word2vec-ruscorpora-300', 'word2vec-google-news-300', 'glove-wiki-gigaword-50', 'glove-wiki-gigaword-100', 'glove-wiki-gigaword-200', 'glove-wiki-gigaword-300', 'glove-twitter-25', 'glove-twitter-50', 'glove-twitter-100', 'glove-twitter-200', '__testing_word2vec-matrix-synopsis']\n"
     ]
    }
   ],
   "source": [
    "import gensim\n",
    "import gensim.downloader\n",
    "\n",
    "print(list(gensim.downloader.info()[\"models\"].keys()))"
   ]
  },
  {
   "cell_type": "markdown",
   "metadata": {},
   "source": [
    "I will be using the GloVe Wikipedia vectors, which has the key `glove-wiki-gigaword-100`."
   ]
  },
  {
   "cell_type": "code",
   "execution_count": 3,
   "metadata": {},
   "outputs": [],
   "source": [
    "import gensim.downloader as api\n",
    "\n",
    "glove_wiki_vectors = api.load(\n",
    "    \"glove-wiki-gigaword-100\"\n",
    ")"
   ]
  },
  {
   "cell_type": "code",
   "execution_count": 4,
   "metadata": {},
   "outputs": [
    {
     "data": {
      "text/plain": [
       "400000"
      ]
     },
     "execution_count": 4,
     "metadata": {},
     "output_type": "execute_result"
    }
   ],
   "source": [
    "len(glove_wiki_vectors)"
   ]
  },
  {
   "cell_type": "markdown",
   "metadata": {},
   "source": [
    "There are 400,000 word vectors in these pre-trained model. "
   ]
  },
  {
   "cell_type": "code",
   "execution_count": 5,
   "metadata": {},
   "outputs": [
    {
     "data": {
      "text/plain": [
       "(100,)"
      ]
     },
     "execution_count": 5,
     "metadata": {},
     "output_type": "execute_result"
    }
   ],
   "source": [
    "glove_wiki_vectors[\"learning\"].shape"
   ]
  },
  {
   "cell_type": "markdown",
   "metadata": {},
   "source": [
    "Each vector is 100 dimensional, and below you can see most similar words to the word _learning_."
   ]
  },
  {
   "cell_type": "code",
   "execution_count": 6,
   "metadata": {},
   "outputs": [
    {
     "data": {
      "text/plain": [
       "[('teaching', 0.7720069289207458),\n",
       " ('knowledge', 0.76064133644104),\n",
       " ('experience', 0.7378624677658081),\n",
       " ('skills', 0.7343750596046448),\n",
       " ('learn', 0.7340658903121948),\n",
       " ('understanding', 0.699902355670929),\n",
       " ('education', 0.6989467740058899),\n",
       " ('educational', 0.6864885687828064),\n",
       " ('lessons', 0.681064784526825),\n",
       " ('studying', 0.6762653589248657)]"
      ]
     },
     "execution_count": 6,
     "metadata": {},
     "output_type": "execute_result"
    }
   ],
   "source": [
    "glove_wiki_vectors.most_similar(\"learning\")"
   ]
  },
  {
   "cell_type": "markdown",
   "metadata": {},
   "source": [
    "<br><br>"
   ]
  },
  {
   "cell_type": "markdown",
   "metadata": {},
   "source": [
    "### Word relatedness using cosine similarity"
   ]
  },
  {
   "cell_type": "code",
   "execution_count": 7,
   "metadata": {},
   "outputs": [],
   "source": [
    "word_pairs = [\n",
    "    (\"coast\", \"shore\"), # Expect high similarity\n",
    "    (\"clothes\", \"closet\"), # Expect high sim.\n",
    "    (\"old\", \"new\"), # Expect decently high sim.\n",
    "    (\"smart\", \"intelligent\"), # Expect high sim.\n",
    "    (\"dog\", \"cat\"), # Expect high sim.\n",
    "    (\"tree\", \"lawyer\"), # Expect low sim.\n",
    "]"
   ]
  },
  {
   "cell_type": "code",
   "execution_count": 8,
   "metadata": {},
   "outputs": [
    {
     "name": "stdout",
     "output_type": "stream",
     "text": [
      "Similarity between coast and shore is 0.700\n",
      "Similarity between clothes and closet is 0.546\n",
      "Similarity between old and new is 0.643\n",
      "Similarity between smart and intelligent is 0.755\n",
      "Similarity between dog and cat is 0.880\n",
      "Similarity between tree and lawyer is 0.077\n"
     ]
    }
   ],
   "source": [
    "for pair in word_pairs:\n",
    "    print(\"Similarity between %s and %s is %.3F\" \n",
    "         % (pair[0], pair[1], glove_wiki_vectors.similarity(pair[0],pair[1])))\n",
    "    "
   ]
  },
  {
   "cell_type": "markdown",
   "metadata": {},
   "source": [
    "The model appears to score the word pairs effectively, as words that I know to be similar were given high cosine similarity scores, while the word pair _tree_ and _lawyer_ scored quite low as they are not very similar in any context."
   ]
  },
  {
   "cell_type": "markdown",
   "metadata": {},
   "source": [
    "### Finding words that don't belong\n",
    "\n",
    "Using the `doesnt_match` method from the word vectors class, the model can effectively determine which word has the word vector furthest away from the other three words."
   ]
  },
  {
   "cell_type": "code",
   "execution_count": 10,
   "metadata": {},
   "outputs": [
    {
     "name": "stdout",
     "output_type": "stream",
     "text": [
      "plane\n",
      "crimson\n",
      "ninety\n"
     ]
    }
   ],
   "source": [
    "print(glove_wiki_vectors.doesnt_match(\"car bicycle plane skateboard\".split()))\n",
    "print(glove_wiki_vectors.doesnt_match(\"blue red green crimson\".split()))\n",
    "print(glove_wiki_vectors.doesnt_match(\"one two three ninety\".split()))"
   ]
  },
  {
   "cell_type": "markdown",
   "metadata": {},
   "source": [
    "The words that I intended to be outliers compared to the other words were all picked up, which is reassuring to see."
   ]
  },
  {
   "cell_type": "markdown",
   "metadata": {},
   "source": [
    "<br><br>"
   ]
  },
  {
   "cell_type": "markdown",
   "metadata": {},
   "source": [
    "### Representation of all words in English\n",
    "\n",
    "1. The vocabulary size of Wikipedia embeddings is quite large. The `test_words` list below contains a few new words (called neologisms) and biomedical domain-specific abbreviations. Write code to check whether `glove_wiki_vectors` has representation for these words or not. \n",
    "2. Give example corpora (collection of texts) that you would use to train word2vec models so that you have representations for these words.   \n",
    "\n",
    "> If a given word `word` is in the vocabulary, `word in glove_wiki_vectors` will return True. "
   ]
  },
  {
   "cell_type": "code",
   "execution_count": 11,
   "metadata": {},
   "outputs": [],
   "source": [
    "test_words = [\n",
    "    \"covididiot\",\n",
    "    \"fomo\",\n",
    "    \"frenemies\",\n",
    "    \"anthropause\",\n",
    "    \"photobomb\",\n",
    "    \"selfie\",\n",
    "    \"pxg\",  # Abbreviation for pseudoexfoliative glaucoma\n",
    "    \"pacg\",  # Abbreviation for primary angle closure glaucoma\n",
    "    \"cct\",  # Abbreviation for central corneal thickness\n",
    "    \"escc\",  # Abbreviation for esophageal squamous cell carcinoma\n",
    "]"
   ]
  },
  {
   "cell_type": "markdown",
   "metadata": {},
   "source": [
    "<div class=\"alert alert-warning\">\n",
    "\n",
    "Solution_1_3_1\n",
    "    \n",
    "</div>"
   ]
  },
  {
   "cell_type": "code",
   "execution_count": 12,
   "metadata": {},
   "outputs": [
    {
     "name": "stdout",
     "output_type": "stream",
     "text": [
      "covididiot has representation in glove_wiki_vectores : False\n",
      "fomo has representation in glove_wiki_vectores : False\n",
      "frenemies has representation in glove_wiki_vectores : True\n",
      "anthropause has representation in glove_wiki_vectores : False\n",
      "photobomb has representation in glove_wiki_vectores : False\n",
      "selfie has representation in glove_wiki_vectores : False\n",
      "pxg has representation in glove_wiki_vectores : False\n",
      "pacg has representation in glove_wiki_vectores : False\n",
      "cct has representation in glove_wiki_vectores : True\n",
      "escc has representation in glove_wiki_vectores : True\n"
     ]
    }
   ],
   "source": [
    "for word in test_words:\n",
    "    print(\"%s has representation in glove_wiki_vectores : %r\" % (word, word in glove_wiki_vectors))\n"
   ]
  },
  {
   "cell_type": "markdown",
   "metadata": {},
   "source": [
    "<div class=\"alert alert-warning\">\n",
    "\n",
    "Solution_1_3_2\n",
    "    \n",
    "</div>"
   ]
  },
  {
   "cell_type": "markdown",
   "metadata": {},
   "source": [
    "For the first 5 words that are not represented I would use a collection of tweets or other social media text that incorporates the use of them. The last 2 I would suggest using medical notes, or relevant wikipedia articles that reference the real word and the abbreviations together."
   ]
  },
  {
   "cell_type": "markdown",
   "metadata": {},
   "source": [
    "<br><br><br>"
   ]
  },
  {
   "cell_type": "markdown",
   "metadata": {},
   "source": [
    "### 1.4 Visualizing similar words\n",
    "rubric={viz:5,reasoning:2}\n",
    "\n",
    "Let's examine the quality of embeddings by visualizing whether similar words are close together in the vector space or not. \n",
    "Our word vectors are 100 dimensional and if we want to visualize them, we need to reduce dimensionality to 3 dimensions or 2 dimensions. [PCA](https://scikit-learn.org/stable/modules/generated/sklearn.decomposition.PCA.html) would be a simplest approach for this. For better visualization, we can also use non-linear dimensionality reduction techniques such as [t-SNE](https://scikit-learn.org/stable/modules/generated/sklearn.manifold.TSNE.html) or [UMAP](https://umap-learn.readthedocs.io/en/latest/). In this exercise, you'll use PCA and t-SNE to visualize a sample of word embeddings and compare the visualizations.  \n",
    "\n",
    "The code below extracts word embeddings for a set of 66 words from 6 categories and stores them in the dataframe `embeddings_df`, where indices are words. \n",
    "\n",
    "> Feel free to experiment with the categories but in your final submission keep these categories so that it's easier for the TAs to grade your work.  \n",
    "\n",
    "**Your tasks:**\n",
    "\n",
    "1. Apply PCA to `embeddings_df` below to reduce dimensionality to 2 dimensions and show a scatter plot of reduced dimensions. Add labels (words) to the points in the plot.  \n",
    "2. Apply t-SNE to `embeddings_df` below to reduce dimensionality to 2 dimensions and show a scatter plot of reduced dimensions. Add labels (words) to the points in the plot. \n",
    "3. Compare the scatter plots created by PCA and t-SNE and briefly discuss your observations. \n",
    "\n",
    "> For t-SNE, you might have to tune some hyperparameters. Show your work or briefly justify your choices. \n",
    "\n",
    "> Feel free to use code from lecture notes with appropriate attributions. "
   ]
  },
  {
   "cell_type": "code",
   "execution_count": 13,
   "metadata": {},
   "outputs": [],
   "source": [
    "# Create words and labels.\n",
    "\n",
    "categories = [\"english\", \"apple\", \"intelligence\", \"hockey\", \"cobain\", \"pca\"]\n",
    "subset_words = []\n",
    "\n",
    "labels = []\n",
    "j = 0\n",
    "for cat in categories:\n",
    "    subset_words.append(cat)\n",
    "    labels.append(j)\n",
    "    for similar_word, _ in glove_wiki_vectors.most_similar(cat, topn=10):\n",
    "        subset_words.append(similar_word)\n",
    "        labels.append(j)\n",
    "    j += 1"
   ]
  },
  {
   "cell_type": "code",
   "execution_count": 14,
   "metadata": {},
   "outputs": [
    {
     "data": {
      "text/html": [
       "<div>\n",
       "<style scoped>\n",
       "    .dataframe tbody tr th:only-of-type {\n",
       "        vertical-align: middle;\n",
       "    }\n",
       "\n",
       "    .dataframe tbody tr th {\n",
       "        vertical-align: top;\n",
       "    }\n",
       "\n",
       "    .dataframe thead th {\n",
       "        text-align: right;\n",
       "    }\n",
       "</style>\n",
       "<table border=\"1\" class=\"dataframe\">\n",
       "  <thead>\n",
       "    <tr style=\"text-align: right;\">\n",
       "      <th></th>\n",
       "      <th>0</th>\n",
       "      <th>1</th>\n",
       "      <th>2</th>\n",
       "      <th>3</th>\n",
       "      <th>4</th>\n",
       "      <th>5</th>\n",
       "      <th>6</th>\n",
       "      <th>7</th>\n",
       "      <th>8</th>\n",
       "      <th>9</th>\n",
       "      <th>...</th>\n",
       "      <th>90</th>\n",
       "      <th>91</th>\n",
       "      <th>92</th>\n",
       "      <th>93</th>\n",
       "      <th>94</th>\n",
       "      <th>95</th>\n",
       "      <th>96</th>\n",
       "      <th>97</th>\n",
       "      <th>98</th>\n",
       "      <th>99</th>\n",
       "    </tr>\n",
       "  </thead>\n",
       "  <tbody>\n",
       "    <tr>\n",
       "      <th>english</th>\n",
       "      <td>-0.05386</td>\n",
       "      <td>0.446860</td>\n",
       "      <td>0.250770</td>\n",
       "      <td>0.069087</td>\n",
       "      <td>-0.299940</td>\n",
       "      <td>1.10950</td>\n",
       "      <td>0.029171</td>\n",
       "      <td>-1.08110</td>\n",
       "      <td>-0.43389</td>\n",
       "      <td>0.502380</td>\n",
       "      <td>...</td>\n",
       "      <td>-0.49669</td>\n",
       "      <td>-0.24979</td>\n",
       "      <td>0.02899</td>\n",
       "      <td>0.87748</td>\n",
       "      <td>-0.56759</td>\n",
       "      <td>0.121130</td>\n",
       "      <td>-0.612610</td>\n",
       "      <td>-0.23581</td>\n",
       "      <td>0.167250</td>\n",
       "      <td>-0.29405</td>\n",
       "    </tr>\n",
       "    <tr>\n",
       "      <th>welsh</th>\n",
       "      <td>-0.32721</td>\n",
       "      <td>0.278950</td>\n",
       "      <td>-0.003277</td>\n",
       "      <td>-0.608470</td>\n",
       "      <td>-0.238010</td>\n",
       "      <td>0.60569</td>\n",
       "      <td>-0.351510</td>\n",
       "      <td>-0.60151</td>\n",
       "      <td>-0.63245</td>\n",
       "      <td>-0.268170</td>\n",
       "      <td>...</td>\n",
       "      <td>-0.66202</td>\n",
       "      <td>-0.42692</td>\n",
       "      <td>-0.35276</td>\n",
       "      <td>1.06300</td>\n",
       "      <td>-0.58287</td>\n",
       "      <td>0.108040</td>\n",
       "      <td>-0.225330</td>\n",
       "      <td>0.13710</td>\n",
       "      <td>0.040706</td>\n",
       "      <td>-0.40040</td>\n",
       "    </tr>\n",
       "    <tr>\n",
       "      <th>language</th>\n",
       "      <td>0.18519</td>\n",
       "      <td>0.341110</td>\n",
       "      <td>0.360970</td>\n",
       "      <td>0.270930</td>\n",
       "      <td>-0.031335</td>\n",
       "      <td>0.83923</td>\n",
       "      <td>-0.505340</td>\n",
       "      <td>-0.80062</td>\n",
       "      <td>0.40695</td>\n",
       "      <td>0.824880</td>\n",
       "      <td>...</td>\n",
       "      <td>0.13560</td>\n",
       "      <td>0.09430</td>\n",
       "      <td>-0.24154</td>\n",
       "      <td>0.71230</td>\n",
       "      <td>-0.42010</td>\n",
       "      <td>0.247350</td>\n",
       "      <td>-0.944490</td>\n",
       "      <td>-1.07940</td>\n",
       "      <td>0.341300</td>\n",
       "      <td>0.34704</td>\n",
       "    </tr>\n",
       "    <tr>\n",
       "      <th>irish</th>\n",
       "      <td>-0.18177</td>\n",
       "      <td>0.430810</td>\n",
       "      <td>0.330500</td>\n",
       "      <td>-0.342800</td>\n",
       "      <td>-0.154820</td>\n",
       "      <td>1.12950</td>\n",
       "      <td>0.025862</td>\n",
       "      <td>-1.21580</td>\n",
       "      <td>-0.50898</td>\n",
       "      <td>-0.155890</td>\n",
       "      <td>...</td>\n",
       "      <td>-0.86785</td>\n",
       "      <td>-0.56849</td>\n",
       "      <td>-0.76525</td>\n",
       "      <td>0.62210</td>\n",
       "      <td>-0.94863</td>\n",
       "      <td>-0.261130</td>\n",
       "      <td>-0.151510</td>\n",
       "      <td>0.60873</td>\n",
       "      <td>0.339210</td>\n",
       "      <td>-0.13511</td>\n",
       "    </tr>\n",
       "    <tr>\n",
       "      <th>scottish</th>\n",
       "      <td>-0.58938</td>\n",
       "      <td>-0.056929</td>\n",
       "      <td>0.342550</td>\n",
       "      <td>-0.124950</td>\n",
       "      <td>0.302700</td>\n",
       "      <td>0.77937</td>\n",
       "      <td>-0.057956</td>\n",
       "      <td>-0.99580</td>\n",
       "      <td>-1.25450</td>\n",
       "      <td>-0.094012</td>\n",
       "      <td>...</td>\n",
       "      <td>-0.60198</td>\n",
       "      <td>-0.75949</td>\n",
       "      <td>-0.50064</td>\n",
       "      <td>0.84948</td>\n",
       "      <td>-0.44227</td>\n",
       "      <td>0.033158</td>\n",
       "      <td>-0.071143</td>\n",
       "      <td>0.51388</td>\n",
       "      <td>0.205080</td>\n",
       "      <td>-1.05190</td>\n",
       "    </tr>\n",
       "  </tbody>\n",
       "</table>\n",
       "<p>5 rows × 100 columns</p>\n",
       "</div>"
      ],
      "text/plain": [
       "                0         1         2         3         4        5         6  \\\n",
       "english  -0.05386  0.446860  0.250770  0.069087 -0.299940  1.10950  0.029171   \n",
       "welsh    -0.32721  0.278950 -0.003277 -0.608470 -0.238010  0.60569 -0.351510   \n",
       "language  0.18519  0.341110  0.360970  0.270930 -0.031335  0.83923 -0.505340   \n",
       "irish    -0.18177  0.430810  0.330500 -0.342800 -0.154820  1.12950  0.025862   \n",
       "scottish -0.58938 -0.056929  0.342550 -0.124950  0.302700  0.77937 -0.057956   \n",
       "\n",
       "                7        8         9  ...       90       91       92       93  \\\n",
       "english  -1.08110 -0.43389  0.502380  ... -0.49669 -0.24979  0.02899  0.87748   \n",
       "welsh    -0.60151 -0.63245 -0.268170  ... -0.66202 -0.42692 -0.35276  1.06300   \n",
       "language -0.80062  0.40695  0.824880  ...  0.13560  0.09430 -0.24154  0.71230   \n",
       "irish    -1.21580 -0.50898 -0.155890  ... -0.86785 -0.56849 -0.76525  0.62210   \n",
       "scottish -0.99580 -1.25450 -0.094012  ... -0.60198 -0.75949 -0.50064  0.84948   \n",
       "\n",
       "               94        95        96       97        98       99  \n",
       "english  -0.56759  0.121130 -0.612610 -0.23581  0.167250 -0.29405  \n",
       "welsh    -0.58287  0.108040 -0.225330  0.13710  0.040706 -0.40040  \n",
       "language -0.42010  0.247350 -0.944490 -1.07940  0.341300  0.34704  \n",
       "irish    -0.94863 -0.261130 -0.151510  0.60873  0.339210 -0.13511  \n",
       "scottish -0.44227  0.033158 -0.071143  0.51388  0.205080 -1.05190  \n",
       "\n",
       "[5 rows x 100 columns]"
      ]
     },
     "execution_count": 14,
     "metadata": {},
     "output_type": "execute_result"
    }
   ],
   "source": [
    "embeddings_df = pd.DataFrame(data=glove_wiki_vectors[subset_words], index=subset_words)\n",
    "embeddings_df.head()"
   ]
  },
  {
   "cell_type": "code",
   "execution_count": 15,
   "metadata": {},
   "outputs": [
    {
     "data": {
      "text/plain": [
       "(66, 100)"
      ]
     },
     "execution_count": 15,
     "metadata": {},
     "output_type": "execute_result"
    }
   ],
   "source": [
    "embeddings_df.shape"
   ]
  },
  {
   "cell_type": "markdown",
   "metadata": {},
   "source": [
    "<div class=\"alert alert-warning\">\n",
    "\n",
    "Solution_1_4_1\n",
    "    \n",
    "</div>"
   ]
  },
  {
   "cell_type": "code",
   "execution_count": 16,
   "metadata": {},
   "outputs": [
    {
     "data": {
      "image/png": "[encoded data removed]",
      "text/plain": [
       "<Figure size 864x576 with 1 Axes>"
      ]
     },
     "metadata": {
      "needs_background": "light"
     },
     "output_type": "display_data"
    }
   ],
   "source": [
    "from sklearn.decomposition import PCA\n",
    "pca = PCA(n_components=2)\n",
    "pca.fit(embeddings_df)\n",
    "emb_pca = pd.DataFrame(pca.transform(embeddings_df), index=embeddings_df.index)\n",
    "\n",
    "fig, ax = plt.subplots()\n",
    "fig.set_size_inches(12,8)\n",
    "ax.scatter(emb_pca.iloc[:,0], emb_pca.iloc[:,1])\n",
    "for i, txt in enumerate(emb_pca.index):\n",
    "    ax.annotate(txt, (emb_pca.iloc[i,0], emb_pca.iloc[i,1]))"
   ]
  },
  {
   "cell_type": "markdown",
   "metadata": {},
   "source": [
    "<div class=\"alert alert-warning\">\n",
    "\n",
    "Solution_1_4_2\n",
    "    \n",
    "</div>"
   ]
  },
  {
   "cell_type": "code",
   "execution_count": 17,
   "metadata": {},
   "outputs": [
    {
     "name": "stderr",
     "output_type": "stream",
     "text": [
      "/Users/samquist/miniconda3/envs/563/lib/python3.9/site-packages/sklearn/manifold/_t_sne.py:780: FutureWarning: The default initialization in TSNE will change from 'random' to 'pca' in 1.2.\n",
      "  warnings.warn(\n",
      "/Users/samquist/miniconda3/envs/563/lib/python3.9/site-packages/sklearn/manifold/_t_sne.py:790: FutureWarning: The default learning rate in TSNE will change from 200.0 to 'auto' in 1.2.\n",
      "  warnings.warn(\n"
     ]
    },
    {
     "data": {
      "image/png": "[encoded data removed]",
      "text/plain": [
       "<Figure size 864x576 with 1 Axes>"
      ]
     },
     "metadata": {
      "needs_background": "light"
     },
     "output_type": "display_data"
    }
   ],
   "source": [
    "from sklearn.manifold import TSNE\n",
    "\n",
    "tsne = TSNE(n_components=2)\n",
    "tsne_df = pd.DataFrame(tsne.fit_transform(embeddings_df), index=embeddings_df.index)\n",
    "\n",
    "fig, ax = plt.subplots()\n",
    "fig.set_size_inches(12,8)\n",
    "ax.scatter(tsne_df.iloc[:,0], tsne_df.iloc[:,1])\n",
    "for i, txt in enumerate(tsne_df.index):\n",
    "    ax.annotate(txt, (tsne_df.iloc[i,0], tsne_df.iloc[i,1]))"
   ]
  },
  {
   "cell_type": "markdown",
   "metadata": {},
   "source": [
    "<div class=\"alert alert-warning\">\n",
    "\n",
    "Solution_1_4_3\n",
    "    \n",
    "</div>"
   ]
  },
  {
   "cell_type": "markdown",
   "metadata": {},
   "source": [
    "The groups in t-SNE appear to be more evenly spaced, and the groups can easily been seen. For example, there is a software group, a musical artist group and a sports group while in the pca plot the groups are not uniformly spaced. Furthermore, the pca plot has numerous data points that are in-between groups or not in the most sensible group. For example, Welsh, Irish and Scottish are closer to \"games\" than \"English\"."
   ]
  },
  {
   "cell_type": "markdown",
   "metadata": {},
   "source": [
    "<br><br>"
   ]
  },
  {
   "cell_type": "markdown",
   "metadata": {},
   "source": [
    "<br><br><br><br>"
   ]
  },
  {
   "cell_type": "markdown",
   "metadata": {},
   "source": [
    "## Exercise 2: Stereotypes and biases in word embeddings\n",
    "<hr>"
   ]
  },
  {
   "cell_type": "markdown",
   "metadata": {},
   "source": [
    "### 2.1 Potential effect of stereotypes and biases in embeddings\n",
    "rubric={reasoning:2}\n",
    "\n",
    "Word vectors contain lots of useful information. But they also contain stereotypes and biases of the texts they were trained on. In the lecture, we saw that our pre-trained word embedding model output an analogy that reinforced a gender stereotype.\n",
    "\n",
    "**Your tasks:**\n",
    "\n",
    "1. Give an example of how using such a model could cause harm in the real world."
   ]
  },
  {
   "cell_type": "markdown",
   "metadata": {},
   "source": [
    "<div class=\"alert alert-warning\">\n",
    "\n",
    "Solution_2_1_1\n",
    "    \n",
    "</div>"
   ]
  },
  {
   "cell_type": "markdown",
   "metadata": {},
   "source": [
    "If the model was trained to parse job applications/cover letters, it could easily discriminate against people who include certain words in their applications. "
   ]
  },
  {
   "cell_type": "markdown",
   "metadata": {},
   "source": [
    "<br><br>"
   ]
  },
  {
   "cell_type": "markdown",
   "metadata": {},
   "source": [
    "### 2.2 Stereotypes and biases in embeddings\n",
    "rubric={accuracy:2,reasoning:4}\n",
    "\n",
    "**Your tasks:**\n",
    "\n",
    "1. Here we are using pre-trained embeddings which are built using Wikipedia data. Explore whether there are any worrisome biases or stereotypes present in these embeddings or not by trying out at least 4 examples. You can use the following two methods or other methods of your choice to explore what kind of stereotypes and biases are encoded in these embeddings. \n",
    "    - use the `analogy` function below which gives word analogies (an example shown below)\n",
    "    - use [similarity](https://radimrehurek.com/gensim/models/keyedvectors.html?highlight=similarity#gensim.models.keyedvectors.KeyedVectors.similarity) or [distance](https://radimrehurek.com/gensim/models/keyedvectors.html?highlight=distance#gensim.models.keyedvectors.KeyedVectors.distances) methods (an example is shown below.)   \n",
    "2. Discuss your observations.\n",
    "\n",
    "> Note that most of the recent embeddings are de-biased. But you might still observe some biases in them. Also, not all stereotypes present in pre-trained embeddings are necessarily bad. But you should be aware of them when you use them in your models. "
   ]
  },
  {
   "cell_type": "markdown",
   "metadata": {},
   "source": [
    "An example of using word analogies to explore biases and stereotypes."
   ]
  },
  {
   "cell_type": "code",
   "execution_count": 18,
   "metadata": {},
   "outputs": [],
   "source": [
    "def analogy(word1, word2, word3, model=glove_wiki_vectors):\n",
    "    \"\"\"\n",
    "    Returns analogy word using the given model.\n",
    "\n",
    "    Parameters\n",
    "    --------------\n",
    "    word1 : (str)\n",
    "        word1 in the analogy relation\n",
    "    word2 : (str)\n",
    "        word2 in the analogy relation\n",
    "    word3 : (str)\n",
    "        word3 in the analogy relation\n",
    "    model :\n",
    "        word embedding model\n",
    "\n",
    "    Returns\n",
    "    ---------------\n",
    "        pd.dataframe\n",
    "    \"\"\"\n",
    "    print(\"%s : %s :: %s : ?\" % (word1, word2, word3))\n",
    "    sim_words = model.most_similar(positive=[word3, word2], negative=[word1])\n",
    "    return pd.DataFrame(sim_words, columns=[\"Analogy word\", \"Score\"])"
   ]
  },
  {
   "cell_type": "code",
   "execution_count": 19,
   "metadata": {},
   "outputs": [
    {
     "name": "stdout",
     "output_type": "stream",
     "text": [
      "man : doctor :: woman : ?\n"
     ]
    },
    {
     "data": {
      "text/html": [
       "<div>\n",
       "<style scoped>\n",
       "    .dataframe tbody tr th:only-of-type {\n",
       "        vertical-align: middle;\n",
       "    }\n",
       "\n",
       "    .dataframe tbody tr th {\n",
       "        vertical-align: top;\n",
       "    }\n",
       "\n",
       "    .dataframe thead th {\n",
       "        text-align: right;\n",
       "    }\n",
       "</style>\n",
       "<table border=\"1\" class=\"dataframe\">\n",
       "  <thead>\n",
       "    <tr style=\"text-align: right;\">\n",
       "      <th></th>\n",
       "      <th>Analogy word</th>\n",
       "      <th>Score</th>\n",
       "    </tr>\n",
       "  </thead>\n",
       "  <tbody>\n",
       "    <tr>\n",
       "      <th>0</th>\n",
       "      <td>nurse</td>\n",
       "      <td>0.773523</td>\n",
       "    </tr>\n",
       "    <tr>\n",
       "      <th>1</th>\n",
       "      <td>physician</td>\n",
       "      <td>0.718943</td>\n",
       "    </tr>\n",
       "    <tr>\n",
       "      <th>2</th>\n",
       "      <td>doctors</td>\n",
       "      <td>0.682433</td>\n",
       "    </tr>\n",
       "    <tr>\n",
       "      <th>3</th>\n",
       "      <td>patient</td>\n",
       "      <td>0.675068</td>\n",
       "    </tr>\n",
       "    <tr>\n",
       "      <th>4</th>\n",
       "      <td>dentist</td>\n",
       "      <td>0.672603</td>\n",
       "    </tr>\n",
       "    <tr>\n",
       "      <th>5</th>\n",
       "      <td>pregnant</td>\n",
       "      <td>0.664246</td>\n",
       "    </tr>\n",
       "    <tr>\n",
       "      <th>6</th>\n",
       "      <td>medical</td>\n",
       "      <td>0.652045</td>\n",
       "    </tr>\n",
       "    <tr>\n",
       "      <th>7</th>\n",
       "      <td>nursing</td>\n",
       "      <td>0.645348</td>\n",
       "    </tr>\n",
       "    <tr>\n",
       "      <th>8</th>\n",
       "      <td>mother</td>\n",
       "      <td>0.639333</td>\n",
       "    </tr>\n",
       "    <tr>\n",
       "      <th>9</th>\n",
       "      <td>hospital</td>\n",
       "      <td>0.638750</td>\n",
       "    </tr>\n",
       "  </tbody>\n",
       "</table>\n",
       "</div>"
      ],
      "text/plain": [
       "  Analogy word     Score\n",
       "0  nurse        0.773523\n",
       "1  physician    0.718943\n",
       "2  doctors      0.682433\n",
       "3  patient      0.675068\n",
       "4  dentist      0.672603\n",
       "5  pregnant     0.664246\n",
       "6  medical      0.652045\n",
       "7  nursing      0.645348\n",
       "8  mother       0.639333\n",
       "9  hospital     0.638750"
      ]
     },
     "execution_count": 19,
     "metadata": {},
     "output_type": "execute_result"
    }
   ],
   "source": [
    "analogy(\"man\", \"doctor\", \"woman\")"
   ]
  },
  {
   "cell_type": "markdown",
   "metadata": {},
   "source": [
    "An example of using similarity between words to explore biases and stereotypes."
   ]
  },
  {
   "cell_type": "code",
   "execution_count": 20,
   "metadata": {},
   "outputs": [
    {
     "data": {
      "text/plain": [
       "0.4408384"
      ]
     },
     "execution_count": 20,
     "metadata": {},
     "output_type": "execute_result"
    }
   ],
   "source": [
    "glove_wiki_vectors.similarity(\"white\", \"poor\")"
   ]
  },
  {
   "cell_type": "code",
   "execution_count": 21,
   "metadata": {},
   "outputs": [
    {
     "data": {
      "text/plain": [
       "0.50771147"
      ]
     },
     "execution_count": 21,
     "metadata": {},
     "output_type": "execute_result"
    }
   ],
   "source": [
    "glove_wiki_vectors.similarity(\"black\", \"poor\")"
   ]
  },
  {
   "cell_type": "markdown",
   "metadata": {},
   "source": [
    "<div class=\"alert alert-warning\">\n",
    "\n",
    "Solution_2_2_1\n",
    "    \n",
    "</div>"
   ]
  },
  {
   "cell_type": "code",
   "execution_count": 22,
   "metadata": {},
   "outputs": [
    {
     "name": "stdout",
     "output_type": "stream",
     "text": [
      "man : smart :: woman : ?\n"
     ]
    },
    {
     "data": {
      "text/html": [
       "<div>\n",
       "<style scoped>\n",
       "    .dataframe tbody tr th:only-of-type {\n",
       "        vertical-align: middle;\n",
       "    }\n",
       "\n",
       "    .dataframe tbody tr th {\n",
       "        vertical-align: top;\n",
       "    }\n",
       "\n",
       "    .dataframe thead th {\n",
       "        text-align: right;\n",
       "    }\n",
       "</style>\n",
       "<table border=\"1\" class=\"dataframe\">\n",
       "  <thead>\n",
       "    <tr style=\"text-align: right;\">\n",
       "      <th></th>\n",
       "      <th>Analogy word</th>\n",
       "      <th>Score</th>\n",
       "    </tr>\n",
       "  </thead>\n",
       "  <tbody>\n",
       "    <tr>\n",
       "      <th>0</th>\n",
       "      <td>intelligent</td>\n",
       "      <td>0.654885</td>\n",
       "    </tr>\n",
       "    <tr>\n",
       "      <th>1</th>\n",
       "      <td>sexy</td>\n",
       "      <td>0.597897</td>\n",
       "    </tr>\n",
       "    <tr>\n",
       "      <th>2</th>\n",
       "      <td>sophisticated</td>\n",
       "      <td>0.574362</td>\n",
       "    </tr>\n",
       "    <tr>\n",
       "      <th>3</th>\n",
       "      <td>mom</td>\n",
       "      <td>0.557256</td>\n",
       "    </tr>\n",
       "    <tr>\n",
       "      <th>4</th>\n",
       "      <td>cute</td>\n",
       "      <td>0.549813</td>\n",
       "    </tr>\n",
       "    <tr>\n",
       "      <th>5</th>\n",
       "      <td>kids</td>\n",
       "      <td>0.540299</td>\n",
       "    </tr>\n",
       "    <tr>\n",
       "      <th>6</th>\n",
       "      <td>pretty</td>\n",
       "      <td>0.530862</td>\n",
       "    </tr>\n",
       "    <tr>\n",
       "      <th>7</th>\n",
       "      <td>savvy</td>\n",
       "      <td>0.530233</td>\n",
       "    </tr>\n",
       "    <tr>\n",
       "      <th>8</th>\n",
       "      <td>innovative</td>\n",
       "      <td>0.530197</td>\n",
       "    </tr>\n",
       "    <tr>\n",
       "      <th>9</th>\n",
       "      <td>attractive</td>\n",
       "      <td>0.528517</td>\n",
       "    </tr>\n",
       "  </tbody>\n",
       "</table>\n",
       "</div>"
      ],
      "text/plain": [
       "    Analogy word     Score\n",
       "0  intelligent    0.654885\n",
       "1  sexy           0.597897\n",
       "2  sophisticated  0.574362\n",
       "3  mom            0.557256\n",
       "4  cute           0.549813\n",
       "5  kids           0.540299\n",
       "6  pretty         0.530862\n",
       "7  savvy          0.530233\n",
       "8  innovative     0.530197\n",
       "9  attractive     0.528517"
      ]
     },
     "execution_count": 22,
     "metadata": {},
     "output_type": "execute_result"
    }
   ],
   "source": [
    "analogy(\"man\", \"smart\", \"woman\")"
   ]
  },
  {
   "cell_type": "code",
   "execution_count": 23,
   "metadata": {},
   "outputs": [
    {
     "name": "stdout",
     "output_type": "stream",
     "text": [
      "0.46977922\n",
      "0.3507729\n"
     ]
    }
   ],
   "source": [
    "print(glove_wiki_vectors.similarity(\"man\", \"rich\"))\n",
    "print(glove_wiki_vectors.similarity(\"woman\", \"rich\"))"
   ]
  },
  {
   "cell_type": "code",
   "execution_count": 24,
   "metadata": {},
   "outputs": [
    {
     "name": "stdout",
     "output_type": "stream",
     "text": [
      "0.6737176\n",
      "0.5527537\n"
     ]
    }
   ],
   "source": [
    "print(glove_wiki_vectors.similarity(\"man\", \"kind\"))\n",
    "print(glove_wiki_vectors.similarity(\"woman\", \"kind\"))"
   ]
  },
  {
   "cell_type": "code",
   "execution_count": 25,
   "metadata": {},
   "outputs": [
    {
     "name": "stdout",
     "output_type": "stream",
     "text": [
      "man : strong :: woman : ?\n"
     ]
    },
    {
     "data": {
      "text/html": [
       "<div>\n",
       "<style scoped>\n",
       "    .dataframe tbody tr th:only-of-type {\n",
       "        vertical-align: middle;\n",
       "    }\n",
       "\n",
       "    .dataframe tbody tr th {\n",
       "        vertical-align: top;\n",
       "    }\n",
       "\n",
       "    .dataframe thead th {\n",
       "        text-align: right;\n",
       "    }\n",
       "</style>\n",
       "<table border=\"1\" class=\"dataframe\">\n",
       "  <thead>\n",
       "    <tr style=\"text-align: right;\">\n",
       "      <th></th>\n",
       "      <th>Analogy word</th>\n",
       "      <th>Score</th>\n",
       "    </tr>\n",
       "  </thead>\n",
       "  <tbody>\n",
       "    <tr>\n",
       "      <th>0</th>\n",
       "      <td>stronger</td>\n",
       "      <td>0.726966</td>\n",
       "    </tr>\n",
       "    <tr>\n",
       "      <th>1</th>\n",
       "      <td>weak</td>\n",
       "      <td>0.657428</td>\n",
       "    </tr>\n",
       "    <tr>\n",
       "      <th>2</th>\n",
       "      <td>robust</td>\n",
       "      <td>0.644944</td>\n",
       "    </tr>\n",
       "    <tr>\n",
       "      <th>3</th>\n",
       "      <td>strongest</td>\n",
       "      <td>0.634013</td>\n",
       "    </tr>\n",
       "    <tr>\n",
       "      <th>4</th>\n",
       "      <td>despite</td>\n",
       "      <td>0.631509</td>\n",
       "    </tr>\n",
       "    <tr>\n",
       "      <th>5</th>\n",
       "      <td>support</td>\n",
       "      <td>0.627726</td>\n",
       "    </tr>\n",
       "    <tr>\n",
       "      <th>6</th>\n",
       "      <td>growing</td>\n",
       "      <td>0.625404</td>\n",
       "    </tr>\n",
       "    <tr>\n",
       "      <th>7</th>\n",
       "      <td>concern</td>\n",
       "      <td>0.605287</td>\n",
       "    </tr>\n",
       "    <tr>\n",
       "      <th>8</th>\n",
       "      <td>particularly</td>\n",
       "      <td>0.603681</td>\n",
       "    </tr>\n",
       "    <tr>\n",
       "      <th>9</th>\n",
       "      <td>reflected</td>\n",
       "      <td>0.600039</td>\n",
       "    </tr>\n",
       "  </tbody>\n",
       "</table>\n",
       "</div>"
      ],
      "text/plain": [
       "   Analogy word     Score\n",
       "0  stronger      0.726966\n",
       "1  weak          0.657428\n",
       "2  robust        0.644944\n",
       "3  strongest     0.634013\n",
       "4  despite       0.631509\n",
       "5  support       0.627726\n",
       "6  growing       0.625404\n",
       "7  concern       0.605287\n",
       "8  particularly  0.603681\n",
       "9  reflected     0.600039"
      ]
     },
     "execution_count": 25,
     "metadata": {},
     "output_type": "execute_result"
    }
   ],
   "source": [
    "analogy(\"man\", \"strong\", \"woman\")"
   ]
  },
  {
   "cell_type": "markdown",
   "metadata": {},
   "source": [
    "<div class=\"alert alert-warning\">\n",
    "\n",
    "Solution_2_2_2\n",
    "    \n",
    "</div>"
   ]
  },
  {
   "cell_type": "markdown",
   "metadata": {},
   "source": [
    "The analogy comparisons were good for the top result, but the second result is what I found to show negative bias. When comparing man to smart, the model says that 'sexy' was the second highest scoring word for women, and fairly close to 'intelligent'. The same goes for the second analogy where the first suggestion is good but the second one shows bias. The two similarity vector comparisons were both biased towards being higher for men, despite both similarity words being truly neutral adjectives."
   ]
  },
  {
   "cell_type": "markdown",
   "metadata": {},
   "source": [
    "<br><br>"
   ]
  },
  {
   "cell_type": "markdown",
   "metadata": {},
   "source": [
    "### (optional) 2.3 Exploring stereotypes using WEAT \n",
    "rubric={reasoning:1}\n",
    "\n",
    "The standard way to identify embedding bias is using WEAT (Word Embedding Association Test), which comes from a [Science paper](https://purehost.bath.ac.uk/ws/portalfiles/portal/168480066/CaliskanEtAl_authors_full.pdf) from a few years ago. It is adapted from psychological tests for detecting implicit bias. \n",
    "\n",
    "The basic idea is that you take some representative target words (e.g., `men_words` and `women_words`) and attribute words (e.g., `high_pay_jobs_words`, `low_pay_jobs_words`), as shown below. Then we calculate a normalized z-score like effect, which is positive if bias is as expected and a p-value based on trying all groupings of the words in the targets. \n",
    "\n",
    "If you're interested in details, here is the [paper](https://purehost.bath.ac.uk/ws/portalfiles/portal/168480066/CaliskanEtAl_authors_full.pdf) and [here](https://github.com/kmccurdy/w2v-gender/tags) is the Python implementation of WEAT. \n",
    "\n",
    "**Your tasks**\n",
    "\n",
    "1. Explore embedding biases using WEAT for target and attribute words of your choosing using the Python implementation [here](https://github.com/kmccurdy/w2v-gender/tags). \n",
    "\n",
    "> You are likely to discuss this more in your ethics course next block.   "
   ]
  },
  {
   "cell_type": "code",
   "execution_count": 26,
   "metadata": {},
   "outputs": [],
   "source": [
    "men_words = {\"male\", \"man\", \"boy\", \"he\", \"him\", \"his\"}"
   ]
  },
  {
   "cell_type": "code",
   "execution_count": 27,
   "metadata": {},
   "outputs": [],
   "source": [
    "women_words = {\"female\", \"woman\", \"girl\", \"she\", \"her\", \"hers\"}"
   ]
  },
  {
   "cell_type": "code",
   "execution_count": 28,
   "metadata": {},
   "outputs": [],
   "source": [
    "high_pay_jobs_words = {\"doctor\", \"lawyer\", \"programmer\", \"surgeon\", \"executive\"}"
   ]
  },
  {
   "cell_type": "code",
   "execution_count": 29,
   "metadata": {},
   "outputs": [],
   "source": [
    "low_pay_jobs_words = {\"nurse\", \"janitor\", \"cashier\", \"driver\"}"
   ]
  },
  {
   "cell_type": "markdown",
   "metadata": {},
   "source": [
    "<div class=\"alert alert-warning\">\n",
    "\n",
    "Solution_2_3_1\n",
    "    \n",
    "</div>"
   ]
  },
  {
   "cell_type": "markdown",
   "metadata": {},
   "source": []
  },
  {
   "cell_type": "markdown",
   "metadata": {},
   "source": [
    "<br><br><br><br>"
   ]
  },
  {
   "cell_type": "markdown",
   "metadata": {},
   "source": [
    "## Exercise 3: Building your own embeddings <a name=\"2\"></a>\n",
    "<hr>"
   ]
  },
  {
   "cell_type": "markdown",
   "metadata": {},
   "source": [
    "When you work in specific domains, you might need to train your own word embeddings. In this exercise, you will train your own embeddings on a biomedical corpus using [`gensim`](https://radimrehurek.com/gensim/). \n",
    "\n",
    "We'll use a small subset of a corpus of [biomedical abstracts downloaded from PMC](https://www.kaggle.com/cvltmao/pmc-articles?select=a_b.csv). The original corpus is large and to get meaningful embeddings, we would ideally use the full corpus. But for the purpose of this assignment, we will only work on a sample for speed. \n",
    "\n",
    "**Your tasks:**\n",
    "\n",
    "- Download `a_b.csv` from [kaggle](https://www.kaggle.com/cvltmao/pmc-articles?select=a_b.csv), and put it in the lab folder. \n",
    "- Run the code below which reads the CSV and extracts a sample of the CSV. "
   ]
  },
  {
   "cell_type": "code",
   "execution_count": 30,
   "metadata": {},
   "outputs": [],
   "source": [
    "df = pd.read_csv(\"a_b.csv\")\n",
    "df = df.dropna()\n",
    "df_subset = df.sample(5000, random_state=42)"
   ]
  },
  {
   "cell_type": "code",
   "execution_count": 31,
   "metadata": {},
   "outputs": [
    {
     "data": {
      "text/html": [
       "<div>\n",
       "<style scoped>\n",
       "    .dataframe tbody tr th:only-of-type {\n",
       "        vertical-align: middle;\n",
       "    }\n",
       "\n",
       "    .dataframe tbody tr th {\n",
       "        vertical-align: top;\n",
       "    }\n",
       "\n",
       "    .dataframe thead th {\n",
       "        text-align: right;\n",
       "    }\n",
       "</style>\n",
       "<table border=\"1\" class=\"dataframe\">\n",
       "  <thead>\n",
       "    <tr style=\"text-align: right;\">\n",
       "      <th></th>\n",
       "      <th>article_id</th>\n",
       "      <th>abstract</th>\n",
       "    </tr>\n",
       "  </thead>\n",
       "  <tbody>\n",
       "    <tr>\n",
       "      <th>129637</th>\n",
       "      <td>PMC3537527</td>\n",
       "      <td>Esophageal squamous cell carcinoma (ESCC) shows a 5-year survival rate below 10%, demonstrating the urgency in improving its treatment. Alterations in epidermal growth factor receptors are closely related to malignancy transformation in a number of tumors and recent successful targeted therapies have been directed to these molecules. Therefore, in this study, we analyzed the expression of EGFR and HER2 and evaluated  mutation profile as well as the presence of mutations in hotspots of  and  in ESCC patients. We performed RT-qPCR, immunohistochemistry and Fluorescent  hybridization to determine EGFR and HER2 expression in ESCC patients, and direct sequencing and PCR-RFLP for mutations and polymorphism analysis Our results showed an increased  mRNA expression in tumors compared to surrounding tissue (p &lt;0.05), with 11% of the cases presenting at least a four-fold difference between tumor and paired adjacent mucosa. EGFR protein overexpression was present only in 4% of the cases. The median expression of  mRNA was not different between tumors and adjacent mucosa. Still, 7% of the tumors presented at least a 25-fold higher expression of this gene when compared to its paired counterpart. Immunohistochemical analysis revealed that 21% of the tumors were positive for HER2 (scores 2+ and 3+), although only 3+ tumors presented amplification of this gene. Mutation analysis for  (exons 18-21),  (codons 12 and 13) and  (V600E) showed no mutations in any of the hotspots of these genes in almost 100 patients analyzed.  presented synonymous polymorphisms at codon 836 (C&gt;T) in 2.1% of the patients, and at codon 787 (G&gt;A) in 79.2% of the cases. This last polymorphism was also evaluated in 304 healthy controls, which presented a similar frequency (73.7%) in comparison with ESCC patients. The absence of mutations of ,  and  as well as the overexpression of EGFR and HER2 in less than 10% of the patients suggest that this signaling pathway is altered in only a small proportion of patients with ESCC. HER receptors target therapies may have the potential to be effective in only a minor fraction of patients with ESCC.</td>\n",
       "    </tr>\n",
       "    <tr>\n",
       "      <th>234041</th>\n",
       "      <td>PMC2711088</td>\n",
       "      <td>Asthma is the most common chronic disease in childhood, characterized by chronic airway inflammation. There are problems with the diagnosis of asthma in young children since the majority of the children with recurrent asthma-like symptoms is symptom free at 6 years, and does not have asthma. With the conventional diagnostic tools it is not possible to differentiate between preschool children with transient symptoms and children with asthma. The analysis of biomarkers of airway inflammation in exhaled breath is a non-invasive and promising technique to diagnose asthma and monitor inflammation in young children. Moreover, relatively new lung function tests (airway resistance using the interrupter technique) have become available for young children. The primary objective of the ADEM study (Asthma DEtection and Monitoring study), is to develop a non-invasive instrument for an early asthma diagnosis in young children, using exhaled inflammatory markers and early lung function measurements. In addition, aetiological factors, including gene polymorphisms and gene expression profiles, in relation to the development of asthma are studied. A prospective case-control study is started in 200 children with recurrent respiratory symptoms and 50 control subjects without respiratory symptoms. At 6 years, a definite diagnosis of asthma is made (primary outcome measure) on basis of lung function assessments and current respiratory symptoms ('golden standard'). From inclusion until the definite asthma diagnosis, repeated measurements of lung function tests and inflammatory markers in exhaled breath (condensate), blood and faeces are performed. The study is registered and ethically approved. This article describes the study protocol of the ADEM study. The new diagnostic techniques applied in this study could make an early diagnosis of asthma possible. An early and reliable asthma diagnosis at 2–3 years will have consequences for the management of the large group of young children with asthma-like symptoms. It will avoid both over-treatment of children with transient wheeze and under-treatment of children with asthma. This might have a beneficial influence on the prognosis of asthma in these young children. Besides, insight into the pathophysiology and aetiology of asthma will be obtained. This study is registered by clinicaltrials.gov (NCT00422747).</td>\n",
       "    </tr>\n",
       "    <tr>\n",
       "      <th>212447</th>\n",
       "      <td>PMC5007694</td>\n",
       "      <td>Reports of central corneal thickness (CCT) among glaucoma patients, particularly for pseudoexfoliative glaucoma (PXG) and Primary Angle Closure Glaucoma (PACG) are scarce in the Sub-Saharan African (SSA) population. The aim of this study is to evaluate CCT in black patients with newly diagnosed glaucoma and ocular hypertension (OHT) in South West Ethiopia. This was a prospective study undertaken with an ultrasonic pachymeter from June 2014 to February 2015 in Jimma University Specialized Hospital. Patients aged 18 years and older newly diagnosed with glaucoma or OHT were included. For the whole sample, CCT was 518.67 (±39.97) μm. OHT group had significantly greater CCT (576.33 ± 49.32 μm) than the glaucomatous groups ( = 0.004). POAG (506.69 ± 35.08 μm) and NTG (510.79 ± 44.37 μm) groups had thinner CCT than PXG (520.48 ± 38.95 μm), PACG (524.00 ± 37.16 μm), and JOAG (518.00 ± 30.82 μm) groups, but this was not statistically significant ( = 0. 296). There was a statistically significant decline of CCT with advanced age ( = 0.02). There wasn’t significant difference of average CCT between the ethnic groups ( = 0.3) and gender ( = 0.064). The mean CCT of Ethiopian glaucoma patients is thinner than Caucasians and similar to those reported from previous studies in Sub Saharan Africa. OHT patients had thicker CCT; there was no statistically significant difference observed in average CCT amongst glaucoma subtypes.</td>\n",
       "    </tr>\n",
       "    <tr>\n",
       "      <th>21100</th>\n",
       "      <td>PMC3007460</td>\n",
       "      <td>In the title compound, CHNO\\n               ·NO\\n               , the cation is essentially planar with C—O—C—C and C—O—C—O torsion angles of −178.1 (2) and 2.1 (4)°, respectively. In the crystal, N—H⋯O and C—H⋯O hydrogen-bond inter­actions stabilize the structure.</td>\n",
       "    </tr>\n",
       "    <tr>\n",
       "      <th>237436</th>\n",
       "      <td>PMC3599346</td>\n",
       "      <td>Taking into account our rapidly ageing population, older people are of particular interest in studying health inequalities. Most studies of older persons only include measures of current socioeconomic status (SES) and do not take into account data from earlier stages of life. In addition, only classic SES measures are used, while alternative measures, such as car ownership and house ownership, might equally well predict health. The present study aims to examine the effect of midlife socioeconomic factors on mobility limitation and depressed mood three decades later. Data were from 4,809 men and women aged 33–65 years who participated in the Reykjavik Study (1967–1992) and who were re-examined in old age in the Age, Gene/Environment Susceptibility (AGES) -Reykjavik Study (2002–2006). Education and occupation predicted mobility limitation and depressed mood. Independently, home and car ownership and the availability of housing features predicted mobility limitation. Shortages of food in childhood and lack of a car in midlife predicted depressed mood. Socioeconomic factors from midlife and from childhood affect mobility limitation and depressed mood in old age. Prevention of health problems in old age should begin as early as midlife.</td>\n",
       "    </tr>\n",
       "  </tbody>\n",
       "</table>\n",
       "</div>"
      ],
      "text/plain": [
       "        article_id  \\\n",
       "129637  PMC3537527   \n",
       "234041  PMC2711088   \n",
       "212447  PMC5007694   \n",
       "21100   PMC3007460   \n",
       "237436  PMC3599346   \n",
       "\n",
       "                                                                                                                                                                                                                                                                                                                                                                                                                                                                                                                                                                                                                                                                                                                                                                                                                                                                                                                                                                                                                                                                                                                                                                                                                                                                                                                                                                                                                                                                                                                                                                                                                                                                                                                                                                                                                                                                                                                                                                                                                                                                                                                                                                                                                                                                                                                                                                                                                                                                   abstract  \n",
       "129637  Esophageal squamous cell carcinoma (ESCC) shows a 5-year survival rate below 10%, demonstrating the urgency in improving its treatment. Alterations in epidermal growth factor receptors are closely related to malignancy transformation in a number of tumors and recent successful targeted therapies have been directed to these molecules. Therefore, in this study, we analyzed the expression of EGFR and HER2 and evaluated  mutation profile as well as the presence of mutations in hotspots of  and  in ESCC patients. We performed RT-qPCR, immunohistochemistry and Fluorescent  hybridization to determine EGFR and HER2 expression in ESCC patients, and direct sequencing and PCR-RFLP for mutations and polymorphism analysis Our results showed an increased  mRNA expression in tumors compared to surrounding tissue (p <0.05), with 11% of the cases presenting at least a four-fold difference between tumor and paired adjacent mucosa. EGFR protein overexpression was present only in 4% of the cases. The median expression of  mRNA was not different between tumors and adjacent mucosa. Still, 7% of the tumors presented at least a 25-fold higher expression of this gene when compared to its paired counterpart. Immunohistochemical analysis revealed that 21% of the tumors were positive for HER2 (scores 2+ and 3+), although only 3+ tumors presented amplification of this gene. Mutation analysis for  (exons 18-21),  (codons 12 and 13) and  (V600E) showed no mutations in any of the hotspots of these genes in almost 100 patients analyzed.  presented synonymous polymorphisms at codon 836 (C>T) in 2.1% of the patients, and at codon 787 (G>A) in 79.2% of the cases. This last polymorphism was also evaluated in 304 healthy controls, which presented a similar frequency (73.7%) in comparison with ESCC patients. The absence of mutations of ,  and  as well as the overexpression of EGFR and HER2 in less than 10% of the patients suggest that this signaling pathway is altered in only a small proportion of patients with ESCC. HER receptors target therapies may have the potential to be effective in only a minor fraction of patients with ESCC.                                                                                                                                                                                                                                                  \n",
       "234041  Asthma is the most common chronic disease in childhood, characterized by chronic airway inflammation. There are problems with the diagnosis of asthma in young children since the majority of the children with recurrent asthma-like symptoms is symptom free at 6 years, and does not have asthma. With the conventional diagnostic tools it is not possible to differentiate between preschool children with transient symptoms and children with asthma. The analysis of biomarkers of airway inflammation in exhaled breath is a non-invasive and promising technique to diagnose asthma and monitor inflammation in young children. Moreover, relatively new lung function tests (airway resistance using the interrupter technique) have become available for young children. The primary objective of the ADEM study (Asthma DEtection and Monitoring study), is to develop a non-invasive instrument for an early asthma diagnosis in young children, using exhaled inflammatory markers and early lung function measurements. In addition, aetiological factors, including gene polymorphisms and gene expression profiles, in relation to the development of asthma are studied. A prospective case-control study is started in 200 children with recurrent respiratory symptoms and 50 control subjects without respiratory symptoms. At 6 years, a definite diagnosis of asthma is made (primary outcome measure) on basis of lung function assessments and current respiratory symptoms ('golden standard'). From inclusion until the definite asthma diagnosis, repeated measurements of lung function tests and inflammatory markers in exhaled breath (condensate), blood and faeces are performed. The study is registered and ethically approved. This article describes the study protocol of the ADEM study. The new diagnostic techniques applied in this study could make an early diagnosis of asthma possible. An early and reliable asthma diagnosis at 2–3 years will have consequences for the management of the large group of young children with asthma-like symptoms. It will avoid both over-treatment of children with transient wheeze and under-treatment of children with asthma. This might have a beneficial influence on the prognosis of asthma in these young children. Besides, insight into the pathophysiology and aetiology of asthma will be obtained. This study is registered by clinicaltrials.gov (NCT00422747).  \n",
       "212447  Reports of central corneal thickness (CCT) among glaucoma patients, particularly for pseudoexfoliative glaucoma (PXG) and Primary Angle Closure Glaucoma (PACG) are scarce in the Sub-Saharan African (SSA) population. The aim of this study is to evaluate CCT in black patients with newly diagnosed glaucoma and ocular hypertension (OHT) in South West Ethiopia. This was a prospective study undertaken with an ultrasonic pachymeter from June 2014 to February 2015 in Jimma University Specialized Hospital. Patients aged 18 years and older newly diagnosed with glaucoma or OHT were included. For the whole sample, CCT was 518.67 (±39.97) μm. OHT group had significantly greater CCT (576.33 ± 49.32 μm) than the glaucomatous groups ( = 0.004). POAG (506.69 ± 35.08 μm) and NTG (510.79 ± 44.37 μm) groups had thinner CCT than PXG (520.48 ± 38.95 μm), PACG (524.00 ± 37.16 μm), and JOAG (518.00 ± 30.82 μm) groups, but this was not statistically significant ( = 0. 296). There was a statistically significant decline of CCT with advanced age ( = 0.02). There wasn’t significant difference of average CCT between the ethnic groups ( = 0.3) and gender ( = 0.064). The mean CCT of Ethiopian glaucoma patients is thinner than Caucasians and similar to those reported from previous studies in Sub Saharan Africa. OHT patients had thicker CCT; there was no statistically significant difference observed in average CCT amongst glaucoma subtypes.                                                                                                                                                                                                                                                                                                                                                                                                                                                                                                                                                                                                                                                                                                                                                                                                                                                                                                                                                                              \n",
       "21100   In the title compound, CHNO\\n               ·NO\\n               , the cation is essentially planar with C—O—C—C and C—O—C—O torsion angles of −178.1 (2) and 2.1 (4)°, respectively. In the crystal, N—H⋯O and C—H⋯O hydrogen-bond inter­actions stabilize the structure.                                                                                                                                                                                                                                                                                                                                                                                                                                                                                                                                                                                                                                                                                                                                                                                                                                                                                                                                                                                                                                                                                                                                                                                                                                                                                                                                                                                                                                                                                                                                                                                                                                                                                                                                                                                                                                                                                                                                                                                                                                                                                                                                                                                            \n",
       "237436  Taking into account our rapidly ageing population, older people are of particular interest in studying health inequalities. Most studies of older persons only include measures of current socioeconomic status (SES) and do not take into account data from earlier stages of life. In addition, only classic SES measures are used, while alternative measures, such as car ownership and house ownership, might equally well predict health. The present study aims to examine the effect of midlife socioeconomic factors on mobility limitation and depressed mood three decades later. Data were from 4,809 men and women aged 33–65 years who participated in the Reykjavik Study (1967–1992) and who were re-examined in old age in the Age, Gene/Environment Susceptibility (AGES) -Reykjavik Study (2002–2006). Education and occupation predicted mobility limitation and depressed mood. Independently, home and car ownership and the availability of housing features predicted mobility limitation. Shortages of food in childhood and lack of a car in midlife predicted depressed mood. Socioeconomic factors from midlife and from childhood affect mobility limitation and depressed mood in old age. Prevention of health problems in old age should begin as early as midlife.                                                                                                                                                                                                                                                                                                                                                                                                                                                                                                                                                                                                                                                                                                                                                                                                                                                                                                                                                                                                                                                                                                                                                                  "
      ]
     },
     "execution_count": 31,
     "metadata": {},
     "output_type": "execute_result"
    }
   ],
   "source": [
    "df_subset.head()"
   ]
  },
  {
   "cell_type": "markdown",
   "metadata": {},
   "source": [
    "Word2Vec requires data to be in a specific format, as shown below.\n",
    "\n",
    "```\n",
    "[[sent1word1, sent1word2, ...], \n",
    " [sent2word1, sent2word2, ...], \n",
    " ...\n",
    " [sent1000word1, sent1000word2, ...],\n",
    " ...\n",
    " ]\n",
    " \n",
    "```\n",
    "\n",
    "`Gensim`, the package we are using to train Word2Vec, only requires that the input provides sentences sequentially, when iterated over. There is no need to keep everything in RAM. So we can provide one sentence, process it, forget it, load another sentence.\n",
    "\n",
    "The `preprocessing.py` file has class `MyPreprocessor` which preprocesses a given list of documents and **yields a memory-friendly iterator** for text which you can pass to Word2Vec model. The preprocessing carries out the following steps:\n",
    "\n",
    "- sentence segmentation\n",
    "- tokenization\n",
    "- turned the text into lowercase\n",
    "- removing stopwords\n",
    "\n",
    "The purpose of preprocessing is to \"normalize\" the text so that equivalent things (e.g., _Data_ and _data_) with respect to your task match with each other. \n",
    "\n",
    "Run the code below to carry out preprocessing of the corpus. "
   ]
  },
  {
   "cell_type": "code",
   "execution_count": 32,
   "metadata": {},
   "outputs": [
    {
     "name": "stderr",
     "output_type": "stream",
     "text": [
      "[nltk_data] Downloading package stopwords to\n",
      "[nltk_data]     /Users/samquist/nltk_data...\n",
      "[nltk_data]   Package stopwords is already up-to-date!\n"
     ]
    }
   ],
   "source": [
    "import nltk\n",
    "nltk.download('stopwords')\n",
    "from preprocessing import MyPreprocessor\n",
    "\n",
    "corpus = df_subset[\"abstract\"].tolist()\n",
    "sentences = MyPreprocessor(corpus)  # memory friendly iterator"
   ]
  },
  {
   "cell_type": "markdown",
   "metadata": {},
   "source": [
    "<br><br>"
   ]
  },
  {
   "cell_type": "markdown",
   "metadata": {},
   "source": [
    "###  3.1 Training `Word2Vec` and `fastText`\n",
    "rubric={accuracy:3,reasoning:2}\n",
    "\n",
    "Now that we have an iterator of the data in the expected format, let's train our own word embeddings. In this exercise, you will train `Word2Vec` and `fastText` models on `sentences` iterator above. \n",
    "\n",
    "**Your tasks:** \n",
    "\n",
    "1. Train [Word2Vec model](https://radimrehurek.com/gensim/models/word2vec.html) on `sentences` with the following hyperparameters. (This might take some time so I recommend saving the model with `model.save` for later use. See usage example [here](https://radimrehurek.com/gensim/models/word2vec.html#usage-examples).)\n",
    "    * `vector_size=100`\n",
    "    * `window=5`\n",
    "    * `min_count=2`,\n",
    "2. Train [fastText model](https://radimrehurek.com/gensim/models/fasttext.html) on `sentences` with the same hyperparameters above. (This might take some time so I recommend saving the model for later use.)\n",
    "\n",
    "\n",
    "> Note that the word embeddings will be better quality if we use the full corpus instead of the subset. We are using a subset in this exercise to save time. On my iMac it took ~60 s to train Word2Vec and ~65 s to train fastText on the sample above. If you are feeling adventurous and if your computer can handle it, you are welcome to train it on the full corpus. If your computer is struggling to create embeddings with 5000 documents, reduce the sample size.    \n",
    "\n",
    "> **Please do not submit your saved models.**"
   ]
  },
  {
   "cell_type": "code",
   "execution_count": 33,
   "metadata": {},
   "outputs": [],
   "source": [
    "from gensim.models import FastText, Word2Vec"
   ]
  },
  {
   "cell_type": "markdown",
   "metadata": {},
   "source": [
    "<div class=\"alert alert-warning\">\n",
    "\n",
    "Solution_3_1_1\n",
    "    \n",
    "</div>"
   ]
  },
  {
   "cell_type": "code",
   "execution_count": 34,
   "metadata": {},
   "outputs": [],
   "source": [
    "model = Word2Vec(sentences=sentences, vector_size=100, window=5, min_count=2)\n"
   ]
  },
  {
   "cell_type": "markdown",
   "metadata": {},
   "source": [
    "<div class=\"alert alert-warning\">\n",
    "\n",
    "Solution_3_1_2\n",
    "    \n",
    "</div>"
   ]
  },
  {
   "cell_type": "code",
   "execution_count": 35,
   "metadata": {},
   "outputs": [],
   "source": [
    "from gensim.models import FastText\n",
    "model2 = FastText(sentences=sentences, vector_size=100, window=5, min_count=2)"
   ]
  },
  {
   "cell_type": "markdown",
   "metadata": {},
   "source": [
    "### 3.2 \n",
    "rubric={accuracy:1,reasoning:2}\n",
    "\n",
    "**Your tasks:**\n",
    "1. What is the vocabulary size in each of the models above? \n",
    "2. Give one or two example scenarios when you would train your own embeddings vs. when you would use pre-trained embeddings.   \n",
    "\n",
    "> You might have to access the vocabulary size as `len(model.wv)` and word vectors as `model.wv[word]`, if `model` is your trained model. "
   ]
  },
  {
   "cell_type": "markdown",
   "metadata": {},
   "source": [
    "<div class=\"alert alert-warning\">\n",
    "\n",
    "Solution_3_2_1\n",
    "    \n",
    "</div>"
   ]
  },
  {
   "cell_type": "code",
   "execution_count": 36,
   "metadata": {},
   "outputs": [
    {
     "data": {
      "text/plain": [
       "(29910, 29910)"
      ]
     },
     "execution_count": 36,
     "metadata": {},
     "output_type": "execute_result"
    }
   ],
   "source": [
    "len(model.wv), len(model2.wv)"
   ]
  },
  {
   "cell_type": "markdown",
   "metadata": {},
   "source": [
    "<div class=\"alert alert-warning\">\n",
    "\n",
    "Solution_3_2_2\n",
    "    \n",
    "</div>"
   ]
  },
  {
   "cell_type": "markdown",
   "metadata": {},
   "source": [
    "I would train my own embeddings when using text data that contains many new words and it is important that the words are not misrepresented by breaking them down into smaller embeddings, like a medical corpus."
   ]
  },
  {
   "cell_type": "markdown",
   "metadata": {},
   "source": [
    "<br><br>"
   ]
  },
  {
   "cell_type": "markdown",
   "metadata": {},
   "source": [
    "### 3.3 Unknown words \n",
    "rubric={accuracy:2,reasoning:2}\n",
    "\n",
    "1. Below are the test words we tried before. Write code to check which of these words have representations in our trained embeddings. Try both word2vec and fasttext models you have trained above. \n",
    "2. Discuss your observations. \n",
    "\n",
    "> Note that you might have to access word vector for a word `word` as `model.wv['word']` if `model` is your trained model. "
   ]
  },
  {
   "cell_type": "code",
   "execution_count": 37,
   "metadata": {},
   "outputs": [],
   "source": [
    "test_words = [\n",
    "    \"covididiot\",\n",
    "    \"fomo\",\n",
    "    \"frenemies\",\n",
    "    \"anthropause\",\n",
    "    \"photobomb\",\n",
    "    \"selfie\",\n",
    "    \"pxg\",  # Abbreviation for pseudoexfoliative glaucoma\n",
    "    \"pacg\",  # Abbreviation for primary angle closure glaucoma\n",
    "    \"cct\",  # Abbreviation for central corneal thickness\n",
    "    \"escc\",  # Abbreviation for esophageal squamous cell carcinoma\n",
    "]"
   ]
  },
  {
   "cell_type": "markdown",
   "metadata": {},
   "source": [
    "<div class=\"alert alert-warning\">\n",
    "\n",
    "Solution_3_3_1\n",
    "    \n",
    "</div>"
   ]
  },
  {
   "cell_type": "code",
   "execution_count": 38,
   "metadata": {},
   "outputs": [
    {
     "name": "stdout",
     "output_type": "stream",
     "text": [
      "covididiot is in w2v model: False\n",
      "covididiot is in ft model: True \n",
      "\n",
      "fomo is in w2v model: False\n",
      "fomo is in ft model: True \n",
      "\n",
      "frenemies is in w2v model: False\n",
      "frenemies is in ft model: True \n",
      "\n",
      "anthropause is in w2v model: False\n",
      "anthropause is in ft model: True \n",
      "\n",
      "photobomb is in w2v model: False\n",
      "photobomb is in ft model: True \n",
      "\n",
      "selfie is in w2v model: False\n",
      "selfie is in ft model: True \n",
      "\n",
      "pxg is in w2v model: True\n",
      "pxg is in ft model: True \n",
      "\n",
      "pacg is in w2v model: True\n",
      "pacg is in ft model: True \n",
      "\n",
      "cct is in w2v model: True\n",
      "cct is in ft model: True \n",
      "\n",
      "escc is in w2v model: True\n",
      "escc is in ft model: True \n",
      "\n"
     ]
    }
   ],
   "source": [
    "for word in test_words:\n",
    "    try:\n",
    "        model.wv['{}'.format(word)]\n",
    "        invec = True\n",
    "    except Exception:\n",
    "        invec = False\n",
    "    print(\"%s is in w2v model: %r\" % (word, invec))\n",
    "    print(\"%s is in ft model: %r \\n\" % (word, word in model2.wv))"
   ]
  },
  {
   "cell_type": "markdown",
   "metadata": {},
   "source": [
    "<div class=\"alert alert-warning\">\n",
    "\n",
    "Solution_3_3_2\n",
    "    \n",
    "</div>"
   ]
  },
  {
   "cell_type": "markdown",
   "metadata": {},
   "source": [
    "We can see above that all the medical abbreviations are present in the word2vec vocab, but the neolisms are not. In the fasttext model, all of the words tested were in the vocabulary as fasttext creates mini embeddings from larger words."
   ]
  },
  {
   "cell_type": "markdown",
   "metadata": {},
   "source": [
    "<br><br><br><br>"
   ]
  },
  {
   "cell_type": "markdown",
   "metadata": {},
   "source": [
    "## Exercise 4: Product recommendation using Word2Vec\n",
    "<hr>\n",
    "\n",
    "The Word2Vec algorithm can also be used in tasks beyond text and word similarity. In this exercise we will explore using it for product recommendations. We will build a Word2Vec model so that similar products (products occurring in similar contexts) occur close together in the vector space. The context of products can be determined by the purchase histories of customers. Once we have reasonable representation of products in the vector space, we can recommend products to customers that are \"similar\" (as depicted by the algorithm) to their previously purchased items. \n",
    "\n",
    "For this exercise, we will be using the [Online Retail Data Set from UCI ML repo](https://www.kaggle.com/jihyeseo/online-retail-data-set-from-uci-ml-repo#__sid=js0). The starter code below reads the data as a pandas dataframe `df`. \n",
    "\n",
    "> You might have to install `openpyxl` in your `conda` environment to open the `xlsx` file. \n",
    "\n",
    "```\n",
    "conda install openpyxl\n",
    "```\n",
    "Download the data and save it in your lab directory. **Please do not push the data to your repository.** \n",
    "\n",
    "Run the code below which reads the data and carries out basic preprocessing. "
   ]
  },
  {
   "cell_type": "code",
   "execution_count": 39,
   "metadata": {},
   "outputs": [],
   "source": [
    "df = pd.read_excel(\"Online_Retail.xlsx\")  # Takes a while to read the data."
   ]
  },
  {
   "cell_type": "code",
   "execution_count": 40,
   "metadata": {},
   "outputs": [
    {
     "name": "stdout",
     "output_type": "stream",
     "text": [
      "Data frame shape:  (541909, 8)\n"
     ]
    },
    {
     "data": {
      "text/html": [
       "<div>\n",
       "<style scoped>\n",
       "    .dataframe tbody tr th:only-of-type {\n",
       "        vertical-align: middle;\n",
       "    }\n",
       "\n",
       "    .dataframe tbody tr th {\n",
       "        vertical-align: top;\n",
       "    }\n",
       "\n",
       "    .dataframe thead th {\n",
       "        text-align: right;\n",
       "    }\n",
       "</style>\n",
       "<table border=\"1\" class=\"dataframe\">\n",
       "  <thead>\n",
       "    <tr style=\"text-align: right;\">\n",
       "      <th></th>\n",
       "      <th>InvoiceNo</th>\n",
       "      <th>StockCode</th>\n",
       "      <th>Description</th>\n",
       "      <th>Quantity</th>\n",
       "      <th>InvoiceDate</th>\n",
       "      <th>UnitPrice</th>\n",
       "      <th>CustomerID</th>\n",
       "      <th>Country</th>\n",
       "    </tr>\n",
       "  </thead>\n",
       "  <tbody>\n",
       "    <tr>\n",
       "      <th>0</th>\n",
       "      <td>536365</td>\n",
       "      <td>85123A</td>\n",
       "      <td>WHITE HANGING HEART T-LIGHT HOLDER</td>\n",
       "      <td>6</td>\n",
       "      <td>2010-12-01 08:26:00</td>\n",
       "      <td>2.55</td>\n",
       "      <td>17850.0</td>\n",
       "      <td>United Kingdom</td>\n",
       "    </tr>\n",
       "    <tr>\n",
       "      <th>1</th>\n",
       "      <td>536365</td>\n",
       "      <td>71053</td>\n",
       "      <td>WHITE METAL LANTERN</td>\n",
       "      <td>6</td>\n",
       "      <td>2010-12-01 08:26:00</td>\n",
       "      <td>3.39</td>\n",
       "      <td>17850.0</td>\n",
       "      <td>United Kingdom</td>\n",
       "    </tr>\n",
       "    <tr>\n",
       "      <th>2</th>\n",
       "      <td>536365</td>\n",
       "      <td>84406B</td>\n",
       "      <td>CREAM CUPID HEARTS COAT HANGER</td>\n",
       "      <td>8</td>\n",
       "      <td>2010-12-01 08:26:00</td>\n",
       "      <td>2.75</td>\n",
       "      <td>17850.0</td>\n",
       "      <td>United Kingdom</td>\n",
       "    </tr>\n",
       "    <tr>\n",
       "      <th>3</th>\n",
       "      <td>536365</td>\n",
       "      <td>84029G</td>\n",
       "      <td>KNITTED UNION FLAG HOT WATER BOTTLE</td>\n",
       "      <td>6</td>\n",
       "      <td>2010-12-01 08:26:00</td>\n",
       "      <td>3.39</td>\n",
       "      <td>17850.0</td>\n",
       "      <td>United Kingdom</td>\n",
       "    </tr>\n",
       "    <tr>\n",
       "      <th>4</th>\n",
       "      <td>536365</td>\n",
       "      <td>84029E</td>\n",
       "      <td>RED WOOLLY HOTTIE WHITE HEART.</td>\n",
       "      <td>6</td>\n",
       "      <td>2010-12-01 08:26:00</td>\n",
       "      <td>3.39</td>\n",
       "      <td>17850.0</td>\n",
       "      <td>United Kingdom</td>\n",
       "    </tr>\n",
       "  </tbody>\n",
       "</table>\n",
       "</div>"
      ],
      "text/plain": [
       "  InvoiceNo StockCode                          Description  Quantity  \\\n",
       "0  536365    85123A    WHITE HANGING HEART T-LIGHT HOLDER   6          \n",
       "1  536365    71053     WHITE METAL LANTERN                  6          \n",
       "2  536365    84406B    CREAM CUPID HEARTS COAT HANGER       8          \n",
       "3  536365    84029G    KNITTED UNION FLAG HOT WATER BOTTLE  6          \n",
       "4  536365    84029E    RED WOOLLY HOTTIE WHITE HEART.       6          \n",
       "\n",
       "          InvoiceDate  UnitPrice  CustomerID         Country  \n",
       "0 2010-12-01 08:26:00  2.55       17850.0     United Kingdom  \n",
       "1 2010-12-01 08:26:00  3.39       17850.0     United Kingdom  \n",
       "2 2010-12-01 08:26:00  2.75       17850.0     United Kingdom  \n",
       "3 2010-12-01 08:26:00  3.39       17850.0     United Kingdom  \n",
       "4 2010-12-01 08:26:00  3.39       17850.0     United Kingdom  "
      ]
     },
     "execution_count": 40,
     "metadata": {},
     "output_type": "execute_result"
    }
   ],
   "source": [
    "print(\"Data frame shape: \", df.shape)\n",
    "df.head()"
   ]
  },
  {
   "cell_type": "code",
   "execution_count": 41,
   "metadata": {},
   "outputs": [
    {
     "name": "stdout",
     "output_type": "stream",
     "text": [
      "Shape after dropping rows with NaNs:  (406829, 8)\n"
     ]
    }
   ],
   "source": [
    "df.dropna(inplace=True)\n",
    "print(\"Shape after dropping rows with NaNs: \", df.shape)\n",
    "\n",
    "# Convert StockCode and CustomerID columns to strings\n",
    "df[\"StockCode\"] = df[\"StockCode\"].astype(str)\n",
    "df[\"CustomerID\"] = df[\"CustomerID\"].astype(str)"
   ]
  },
  {
   "cell_type": "code",
   "execution_count": 42,
   "metadata": {},
   "outputs": [
    {
     "data": {
      "text/plain": [
       "0        85123A\n",
       "1        71053 \n",
       "2        84406B\n",
       "3        84029G\n",
       "4        84029E\n",
       "          ...  \n",
       "86898    82483 \n",
       "86899    21874 \n",
       "86900    71477 \n",
       "86901    82483 \n",
       "86902    21169 \n",
       "Name: StockCode, Length: 312, dtype: object"
      ]
     },
     "execution_count": 42,
     "metadata": {},
     "output_type": "execute_result"
    }
   ],
   "source": [
    "df['StockCode'][df['CustomerID']==\"17850.0\"]"
   ]
  },
  {
   "cell_type": "markdown",
   "metadata": {},
   "source": [
    "<br><br>"
   ]
  },
  {
   "cell_type": "markdown",
   "metadata": {},
   "source": [
    "### 4.1 Prepare data for Word2Vec\n",
    "rubric={accuracy:4,quality:2}\n",
    "\n",
    "Remember that word2vec requires data in the following form. \n",
    "\n",
    "```\n",
    "[[sent1word1, sent1word2, ...], \n",
    " [sent2word1, sent2word2, ...], \n",
    " ...\n",
    " [sent1000word1, sent1000word2, ...],\n",
    " ...\n",
    " ]\n",
    " \n",
    "```\n",
    "In this context, customer purchase histories for unique customers are equivalent to sentences and stock codes are equivalent to words.   \n",
    "\n",
    "**Your tasks:**\n",
    "1. How many unique customers and unique products are present in the data above? \n",
    "2. For all unique customers, create purchasing histories for them in the following format, where each inner list corresponds to the purchase history of a unique customer. Each item in the list is a `StockCode` in the purchase history of that customer, ordered by the time of purchase. \n",
    "\n",
    "```\n",
    "[[StockCode1_of_CustomerID1, StockCode2_of_CustomerID1, ....], \n",
    " [StockCode1_of_CustomerID2, StockCode2_of_CustomerID2, ....], \n",
    " ...\n",
    " [StockCode1_of_CustomerID1000, StockCode2_of_CustomerID1000, ....],\n",
    " ...\n",
    " ]\n",
    " \n",
    "```"
   ]
  },
  {
   "cell_type": "markdown",
   "metadata": {},
   "source": [
    "<div class=\"alert alert-warning\">\n",
    "\n",
    "Solution_4_1_1\n",
    "    \n",
    "</div>"
   ]
  },
  {
   "cell_type": "code",
   "execution_count": 43,
   "metadata": {},
   "outputs": [
    {
     "data": {
      "text/plain": [
       "(4372, 3684)"
      ]
     },
     "execution_count": 43,
     "metadata": {},
     "output_type": "execute_result"
    }
   ],
   "source": [
    "unique_cust_id = set(df['CustomerID'])\n",
    "len(unique_cust_id),len(set(df['StockCode']))"
   ]
  },
  {
   "cell_type": "markdown",
   "metadata": {},
   "source": [
    "<div class=\"alert alert-warning\">\n",
    "\n",
    "Solution_4_1_2\n",
    "    \n",
    "</div>"
   ]
  },
  {
   "cell_type": "code",
   "execution_count": 44,
   "metadata": {},
   "outputs": [],
   "source": [
    "stockcode_list = [None] * 4372\n",
    "for i, cust in enumerate(unique_cust_id):\n",
    "    stockcode_list[i] = list(df['StockCode'][df['CustomerID']==str(cust)])"
   ]
  },
  {
   "cell_type": "markdown",
   "metadata": {},
   "source": [
    "<br><br>"
   ]
  },
  {
   "cell_type": "markdown",
   "metadata": {},
   "source": [
    "### 4.2 Train `Word2Vec` model \n",
    "rubric={accuracy:3}\n",
    "\n",
    "**Your tasks:**\n",
    "1. Now that your data is in the format suitable for training Word2Vec model, train `Word2Vec` model with the following hyperparameters\n",
    "    - `window=10` \n",
    "    - `negative=10` (for negative sampling)\n",
    "    - `seed=8` \n",
    "    - `min_count=1`"
   ]
  },
  {
   "cell_type": "markdown",
   "metadata": {},
   "source": [
    "<div class=\"alert alert-warning\">\n",
    "\n",
    "Solution_4_2_1\n",
    "    \n",
    "</div>"
   ]
  },
  {
   "cell_type": "code",
   "execution_count": 45,
   "metadata": {},
   "outputs": [],
   "source": [
    "model = Word2Vec(sentences=stockcode_list, window=10, negative=10, seed=8, min_count=1)"
   ]
  },
  {
   "cell_type": "markdown",
   "metadata": {},
   "source": [
    "<br><br>"
   ]
  },
  {
   "cell_type": "markdown",
   "metadata": {},
   "source": [
    "### 4.3 Examine product similarity \n",
    "rubric={accuracy:3,reasoning:2}\n",
    "\n",
    "Given a word2vec model trained on purchase history data and product description, the function `get_most_similar` below returns descriptions of top `n` most similar products. \n",
    "\n",
    "**Your tasks:**\n",
    "1. Get similar products for the following products. \n",
    "    - 'SWIRLY CIRCULAR RUBBERS IN BAG'\n",
    "    - 'POLKADOT RAIN HAT'    \n",
    "2. Now pick 4 product descriptions of your choice from the data. Call `get_most_similar` for these product descriptions and examine similar products returned by the function.\n",
    "3. Do the recommendations given by the model make sense? Discuss your observations. "
   ]
  },
  {
   "cell_type": "code",
   "execution_count": 46,
   "metadata": {},
   "outputs": [],
   "source": [
    "# Create products id_name and name_id dictionaries\n",
    "products_id_name_dict = pd.Series(\n",
    "    df.Description.str.strip().values, index=df.StockCode\n",
    ").to_dict()\n",
    "products_name_id_dict = pd.Series(\n",
    "    df.StockCode.values, index=df.Description.str.strip()\n",
    ").to_dict()"
   ]
  },
  {
   "cell_type": "code",
   "execution_count": 47,
   "metadata": {},
   "outputs": [],
   "source": [
    "def get_most_similar(prod_desc, n=10, model=model):\n",
    "    \"\"\"\n",
    "    Given product description, prod_desc, return the most similar\n",
    "    products\n",
    "\n",
    "    Parameters\n",
    "    ---------\n",
    "    prod_desc : str\n",
    "        Product description\n",
    "\n",
    "    n : integer\n",
    "        the number of similar items to return\n",
    "\n",
    "    model : gensim Word2Vec model\n",
    "        trained gensim word2vec model on customer purchase histories\n",
    "\n",
    "    Returns\n",
    "    -------\n",
    "    pandas.DataFrame\n",
    "        A pandas dataframe containing n names of similar products\n",
    "        and their similarity scores with the input product\n",
    "        with desciption prod_desc.\n",
    "\n",
    "    \"\"\"\n",
    "    stock_id = products_name_id_dict[prod_desc]\n",
    "    try:\n",
    "        similar_stock_ids = model.wv.most_similar(stock_id, topn=n)\n",
    "    except:\n",
    "        print(\"The product %s is not in the vocabulary\" % (prod_desc))\n",
    "        return\n",
    "\n",
    "    similar_prods = []\n",
    "\n",
    "    for (sim_stock_id, score) in similar_stock_ids:\n",
    "        similar_prods.append((products_id_name_dict[sim_stock_id], score))\n",
    "    return pd.DataFrame(\n",
    "        similar_prods, columns=[\"Product description\", \"Similarity score\"]\n",
    "    )"
   ]
  },
  {
   "cell_type": "markdown",
   "metadata": {},
   "source": [
    "<div class=\"alert alert-warning\">\n",
    "\n",
    "Solution_4_3_1\n",
    "    \n",
    "</div>"
   ]
  },
  {
   "cell_type": "code",
   "execution_count": 48,
   "metadata": {},
   "outputs": [
    {
     "data": {
      "text/html": [
       "<div>\n",
       "<style scoped>\n",
       "    .dataframe tbody tr th:only-of-type {\n",
       "        vertical-align: middle;\n",
       "    }\n",
       "\n",
       "    .dataframe tbody tr th {\n",
       "        vertical-align: top;\n",
       "    }\n",
       "\n",
       "    .dataframe thead th {\n",
       "        text-align: right;\n",
       "    }\n",
       "</style>\n",
       "<table border=\"1\" class=\"dataframe\">\n",
       "  <thead>\n",
       "    <tr style=\"text-align: right;\">\n",
       "      <th></th>\n",
       "      <th>Product description</th>\n",
       "      <th>Similarity score</th>\n",
       "    </tr>\n",
       "  </thead>\n",
       "  <tbody>\n",
       "    <tr>\n",
       "      <th>0</th>\n",
       "      <td>DOGGY RUBBER</td>\n",
       "      <td>0.969028</td>\n",
       "    </tr>\n",
       "    <tr>\n",
       "      <th>1</th>\n",
       "      <td>LETTER SHAPE PENCIL SHARPENER</td>\n",
       "      <td>0.960787</td>\n",
       "    </tr>\n",
       "    <tr>\n",
       "      <th>2</th>\n",
       "      <td>GLOW IN DARK DOLPHINS</td>\n",
       "      <td>0.935482</td>\n",
       "    </tr>\n",
       "    <tr>\n",
       "      <th>3</th>\n",
       "      <td>PARTY TIME PENCIL ERASERS</td>\n",
       "      <td>0.934336</td>\n",
       "    </tr>\n",
       "    <tr>\n",
       "      <th>4</th>\n",
       "      <td>KITTY PENCIL ERASERS</td>\n",
       "      <td>0.928729</td>\n",
       "    </tr>\n",
       "    <tr>\n",
       "      <th>5</th>\n",
       "      <td>PIECE OF CAMO STATIONERY SET</td>\n",
       "      <td>0.927105</td>\n",
       "    </tr>\n",
       "    <tr>\n",
       "      <th>6</th>\n",
       "      <td>CARTOON  PENCIL SHARPENERS</td>\n",
       "      <td>0.923729</td>\n",
       "    </tr>\n",
       "    <tr>\n",
       "      <th>7</th>\n",
       "      <td>HOUSE SHAPE PENCIL SHARPENER</td>\n",
       "      <td>0.921840</td>\n",
       "    </tr>\n",
       "    <tr>\n",
       "      <th>8</th>\n",
       "      <td>TEATIME PEN CASE &amp; PENS</td>\n",
       "      <td>0.916180</td>\n",
       "    </tr>\n",
       "    <tr>\n",
       "      <th>9</th>\n",
       "      <td>SWEET PUDDING STICKER SHEET</td>\n",
       "      <td>0.915108</td>\n",
       "    </tr>\n",
       "  </tbody>\n",
       "</table>\n",
       "</div>"
      ],
      "text/plain": [
       "             Product description  Similarity score\n",
       "0  DOGGY RUBBER                   0.969028        \n",
       "1  LETTER SHAPE PENCIL SHARPENER  0.960787        \n",
       "2  GLOW IN DARK DOLPHINS          0.935482        \n",
       "3  PARTY TIME PENCIL ERASERS      0.934336        \n",
       "4  KITTY PENCIL ERASERS           0.928729        \n",
       "5  PIECE OF CAMO STATIONERY SET   0.927105        \n",
       "6  CARTOON  PENCIL SHARPENERS     0.923729        \n",
       "7  HOUSE SHAPE PENCIL SHARPENER   0.921840        \n",
       "8  TEATIME PEN CASE & PENS        0.916180        \n",
       "9  SWEET PUDDING STICKER SHEET    0.915108        "
      ]
     },
     "execution_count": 48,
     "metadata": {},
     "output_type": "execute_result"
    }
   ],
   "source": [
    "get_most_similar('SWIRLY CIRCULAR RUBBERS IN BAG')"
   ]
  },
  {
   "cell_type": "code",
   "execution_count": 49,
   "metadata": {},
   "outputs": [
    {
     "data": {
      "text/html": [
       "<div>\n",
       "<style scoped>\n",
       "    .dataframe tbody tr th:only-of-type {\n",
       "        vertical-align: middle;\n",
       "    }\n",
       "\n",
       "    .dataframe tbody tr th {\n",
       "        vertical-align: top;\n",
       "    }\n",
       "\n",
       "    .dataframe thead th {\n",
       "        text-align: right;\n",
       "    }\n",
       "</style>\n",
       "<table border=\"1\" class=\"dataframe\">\n",
       "  <thead>\n",
       "    <tr style=\"text-align: right;\">\n",
       "      <th></th>\n",
       "      <th>Product description</th>\n",
       "      <th>Similarity score</th>\n",
       "    </tr>\n",
       "  </thead>\n",
       "  <tbody>\n",
       "    <tr>\n",
       "      <th>0</th>\n",
       "      <td>RAIN PONCHO RETROSPOT</td>\n",
       "      <td>0.903114</td>\n",
       "    </tr>\n",
       "    <tr>\n",
       "      <th>1</th>\n",
       "      <td>MONEY BOX BISCUITS DESIGN</td>\n",
       "      <td>0.876143</td>\n",
       "    </tr>\n",
       "    <tr>\n",
       "      <th>2</th>\n",
       "      <td>MONEY BOX KINGS CHOICE DESIGN</td>\n",
       "      <td>0.812342</td>\n",
       "    </tr>\n",
       "    <tr>\n",
       "      <th>3</th>\n",
       "      <td>MONEY BOX POCKET MONEY DESIGN</td>\n",
       "      <td>0.775808</td>\n",
       "    </tr>\n",
       "    <tr>\n",
       "      <th>4</th>\n",
       "      <td>CHOCOLATE CALCULATOR</td>\n",
       "      <td>0.769225</td>\n",
       "    </tr>\n",
       "    <tr>\n",
       "      <th>5</th>\n",
       "      <td>MONEY BOX FIRST AID DESIGN</td>\n",
       "      <td>0.758341</td>\n",
       "    </tr>\n",
       "    <tr>\n",
       "      <th>6</th>\n",
       "      <td>KIDS RAIN MAC BLUE</td>\n",
       "      <td>0.725978</td>\n",
       "    </tr>\n",
       "    <tr>\n",
       "      <th>7</th>\n",
       "      <td>BIRTHDAY PARTY CORDON BARRIER TAPE</td>\n",
       "      <td>0.725626</td>\n",
       "    </tr>\n",
       "    <tr>\n",
       "      <th>8</th>\n",
       "      <td>SET 12 KIDS COLOUR  CHALK STICKS</td>\n",
       "      <td>0.721619</td>\n",
       "    </tr>\n",
       "    <tr>\n",
       "      <th>9</th>\n",
       "      <td>PACK 6 HEART/ICE-CREAM PATCHES</td>\n",
       "      <td>0.720599</td>\n",
       "    </tr>\n",
       "  </tbody>\n",
       "</table>\n",
       "</div>"
      ],
      "text/plain": [
       "                  Product description  Similarity score\n",
       "0  RAIN PONCHO RETROSPOT               0.903114        \n",
       "1  MONEY BOX BISCUITS DESIGN           0.876143        \n",
       "2  MONEY BOX KINGS CHOICE DESIGN       0.812342        \n",
       "3  MONEY BOX POCKET MONEY DESIGN       0.775808        \n",
       "4  CHOCOLATE CALCULATOR                0.769225        \n",
       "5  MONEY BOX FIRST AID DESIGN          0.758341        \n",
       "6  KIDS RAIN MAC BLUE                  0.725978        \n",
       "7  BIRTHDAY PARTY CORDON BARRIER TAPE  0.725626        \n",
       "8  SET 12 KIDS COLOUR  CHALK STICKS    0.721619        \n",
       "9  PACK 6 HEART/ICE-CREAM PATCHES      0.720599        "
      ]
     },
     "execution_count": 49,
     "metadata": {},
     "output_type": "execute_result"
    }
   ],
   "source": [
    "get_most_similar('POLKADOT RAIN HAT')"
   ]
  },
  {
   "cell_type": "markdown",
   "metadata": {},
   "source": [
    "<div class=\"alert alert-warning\">\n",
    "\n",
    "Solution_4_3_2\n",
    "    \n",
    "</div>"
   ]
  },
  {
   "cell_type": "code",
   "execution_count": 50,
   "metadata": {},
   "outputs": [
    {
     "data": {
      "text/html": [
       "<div>\n",
       "<style scoped>\n",
       "    .dataframe tbody tr th:only-of-type {\n",
       "        vertical-align: middle;\n",
       "    }\n",
       "\n",
       "    .dataframe tbody tr th {\n",
       "        vertical-align: top;\n",
       "    }\n",
       "\n",
       "    .dataframe thead th {\n",
       "        text-align: right;\n",
       "    }\n",
       "</style>\n",
       "<table border=\"1\" class=\"dataframe\">\n",
       "  <thead>\n",
       "    <tr style=\"text-align: right;\">\n",
       "      <th></th>\n",
       "      <th>Product description</th>\n",
       "      <th>Similarity score</th>\n",
       "    </tr>\n",
       "  </thead>\n",
       "  <tbody>\n",
       "    <tr>\n",
       "      <th>0</th>\n",
       "      <td>FRIDGE MAGNETS US DINER ASSORTED</td>\n",
       "      <td>0.914275</td>\n",
       "    </tr>\n",
       "    <tr>\n",
       "      <th>1</th>\n",
       "      <td>FRIDGE MAGNETS LES ENFANTS ASSORTED</td>\n",
       "      <td>0.874610</td>\n",
       "    </tr>\n",
       "    <tr>\n",
       "      <th>2</th>\n",
       "      <td>JAM CLOCK MAGNET</td>\n",
       "      <td>0.811240</td>\n",
       "    </tr>\n",
       "    <tr>\n",
       "      <th>3</th>\n",
       "      <td>FRIDGE MAGNETS LA VIE EN ROSE</td>\n",
       "      <td>0.805365</td>\n",
       "    </tr>\n",
       "    <tr>\n",
       "      <th>4</th>\n",
       "      <td>GLASS JAR MARMALADE</td>\n",
       "      <td>0.786324</td>\n",
       "    </tr>\n",
       "    <tr>\n",
       "      <th>5</th>\n",
       "      <td>PHARMACIE FIRST AID TIN</td>\n",
       "      <td>0.759269</td>\n",
       "    </tr>\n",
       "    <tr>\n",
       "      <th>6</th>\n",
       "      <td>GLASS JAR DIGESTIVE BISCUITS</td>\n",
       "      <td>0.740522</td>\n",
       "    </tr>\n",
       "    <tr>\n",
       "      <th>7</th>\n",
       "      <td>GLASS JAR KINGS CHOICE</td>\n",
       "      <td>0.737668</td>\n",
       "    </tr>\n",
       "    <tr>\n",
       "      <th>8</th>\n",
       "      <td>BULL DOG BOTTLE TOP WALL CLOCK</td>\n",
       "      <td>0.735163</td>\n",
       "    </tr>\n",
       "    <tr>\n",
       "      <th>9</th>\n",
       "      <td>MUM'S KITCHEN CLOCK</td>\n",
       "      <td>0.730232</td>\n",
       "    </tr>\n",
       "  </tbody>\n",
       "</table>\n",
       "</div>"
      ],
      "text/plain": [
       "                   Product description  Similarity score\n",
       "0  FRIDGE MAGNETS US DINER ASSORTED     0.914275        \n",
       "1  FRIDGE MAGNETS LES ENFANTS ASSORTED  0.874610        \n",
       "2  JAM CLOCK MAGNET                     0.811240        \n",
       "3  FRIDGE MAGNETS LA VIE EN ROSE        0.805365        \n",
       "4  GLASS JAR MARMALADE                  0.786324        \n",
       "5  PHARMACIE FIRST AID TIN              0.759269        \n",
       "6  GLASS JAR DIGESTIVE BISCUITS         0.740522        \n",
       "7  GLASS JAR KINGS CHOICE               0.737668        \n",
       "8  BULL DOG BOTTLE TOP WALL CLOCK       0.735163        \n",
       "9  MUM'S KITCHEN CLOCK                  0.730232        "
      ]
     },
     "execution_count": 50,
     "metadata": {},
     "output_type": "execute_result"
    }
   ],
   "source": [
    "get_most_similar('ASSORTED BOTTLE TOP  MAGNETS')"
   ]
  },
  {
   "cell_type": "code",
   "execution_count": 51,
   "metadata": {},
   "outputs": [
    {
     "data": {
      "text/html": [
       "<div>\n",
       "<style scoped>\n",
       "    .dataframe tbody tr th:only-of-type {\n",
       "        vertical-align: middle;\n",
       "    }\n",
       "\n",
       "    .dataframe tbody tr th {\n",
       "        vertical-align: top;\n",
       "    }\n",
       "\n",
       "    .dataframe thead th {\n",
       "        text-align: right;\n",
       "    }\n",
       "</style>\n",
       "<table border=\"1\" class=\"dataframe\">\n",
       "  <thead>\n",
       "    <tr style=\"text-align: right;\">\n",
       "      <th></th>\n",
       "      <th>Product description</th>\n",
       "      <th>Similarity score</th>\n",
       "    </tr>\n",
       "  </thead>\n",
       "  <tbody>\n",
       "    <tr>\n",
       "      <th>0</th>\n",
       "      <td>KITCHEN FLOWER POTS WALL PLAQUE</td>\n",
       "      <td>0.957678</td>\n",
       "    </tr>\n",
       "    <tr>\n",
       "      <th>1</th>\n",
       "      <td>CLASSIC WHITE FRAME</td>\n",
       "      <td>0.953952</td>\n",
       "    </tr>\n",
       "    <tr>\n",
       "      <th>2</th>\n",
       "      <td>SPRIG LAVENDER ARTIFICIAL FLOWER</td>\n",
       "      <td>0.948447</td>\n",
       "    </tr>\n",
       "    <tr>\n",
       "      <th>3</th>\n",
       "      <td>FRUIT TREE AND BIRDS WALL PLAQUE</td>\n",
       "      <td>0.948133</td>\n",
       "    </tr>\n",
       "    <tr>\n",
       "      <th>4</th>\n",
       "      <td>CREAM SWEETHEART LETTER RACK</td>\n",
       "      <td>0.944526</td>\n",
       "    </tr>\n",
       "    <tr>\n",
       "      <th>5</th>\n",
       "      <td>SMALL KITCHEN FLOWER POTS PLAQUE</td>\n",
       "      <td>0.943475</td>\n",
       "    </tr>\n",
       "    <tr>\n",
       "      <th>6</th>\n",
       "      <td>MEDIUM WHITE/PINK ROSE ART FLOWER</td>\n",
       "      <td>0.943014</td>\n",
       "    </tr>\n",
       "    <tr>\n",
       "      <th>7</th>\n",
       "      <td>GREEN WIRE STANDING CANDLE HOLDER</td>\n",
       "      <td>0.942078</td>\n",
       "    </tr>\n",
       "    <tr>\n",
       "      <th>8</th>\n",
       "      <td>BLUE TILED TRAY</td>\n",
       "      <td>0.939415</td>\n",
       "    </tr>\n",
       "    <tr>\n",
       "      <th>9</th>\n",
       "      <td>SILVER ROCOCO CANDLE STICK</td>\n",
       "      <td>0.938963</td>\n",
       "    </tr>\n",
       "  </tbody>\n",
       "</table>\n",
       "</div>"
      ],
      "text/plain": [
       "                 Product description  Similarity score\n",
       "0  KITCHEN FLOWER POTS WALL PLAQUE    0.957678        \n",
       "1  CLASSIC WHITE FRAME                0.953952        \n",
       "2  SPRIG LAVENDER ARTIFICIAL FLOWER   0.948447        \n",
       "3  FRUIT TREE AND BIRDS WALL PLAQUE   0.948133        \n",
       "4  CREAM SWEETHEART LETTER RACK       0.944526        \n",
       "5  SMALL KITCHEN FLOWER POTS PLAQUE   0.943475        \n",
       "6  MEDIUM WHITE/PINK ROSE ART FLOWER  0.943014        \n",
       "7  GREEN WIRE STANDING CANDLE HOLDER  0.942078        \n",
       "8  BLUE TILED TRAY                    0.939415        \n",
       "9  SILVER ROCOCO CANDLE STICK         0.938963        "
      ]
     },
     "execution_count": 51,
     "metadata": {},
     "output_type": "execute_result"
    }
   ],
   "source": [
    "get_most_similar('SET 3 WICKER OVAL BASKETS W LIDS')"
   ]
  },
  {
   "cell_type": "code",
   "execution_count": 52,
   "metadata": {},
   "outputs": [
    {
     "data": {
      "text/html": [
       "<div>\n",
       "<style scoped>\n",
       "    .dataframe tbody tr th:only-of-type {\n",
       "        vertical-align: middle;\n",
       "    }\n",
       "\n",
       "    .dataframe tbody tr th {\n",
       "        vertical-align: top;\n",
       "    }\n",
       "\n",
       "    .dataframe thead th {\n",
       "        text-align: right;\n",
       "    }\n",
       "</style>\n",
       "<table border=\"1\" class=\"dataframe\">\n",
       "  <thead>\n",
       "    <tr style=\"text-align: right;\">\n",
       "      <th></th>\n",
       "      <th>Product description</th>\n",
       "      <th>Similarity score</th>\n",
       "    </tr>\n",
       "  </thead>\n",
       "  <tbody>\n",
       "    <tr>\n",
       "      <th>0</th>\n",
       "      <td>SMALL YELLOW BABUSHKA NOTEBOOK</td>\n",
       "      <td>0.985089</td>\n",
       "    </tr>\n",
       "    <tr>\n",
       "      <th>1</th>\n",
       "      <td>SMALL PURPLE BABUSHKA NOTEBOOK</td>\n",
       "      <td>0.984342</td>\n",
       "    </tr>\n",
       "    <tr>\n",
       "      <th>2</th>\n",
       "      <td>LARGE YELLOW BABUSHKA NOTEBOOK</td>\n",
       "      <td>0.964415</td>\n",
       "    </tr>\n",
       "    <tr>\n",
       "      <th>3</th>\n",
       "      <td>LARGE PURPLE BABUSHKA NOTEBOOK</td>\n",
       "      <td>0.963912</td>\n",
       "    </tr>\n",
       "    <tr>\n",
       "      <th>4</th>\n",
       "      <td>LARGE RED BABUSHKA NOTEBOOK</td>\n",
       "      <td>0.963047</td>\n",
       "    </tr>\n",
       "    <tr>\n",
       "      <th>5</th>\n",
       "      <td>GARDEN PATH JOURNAL</td>\n",
       "      <td>0.742419</td>\n",
       "    </tr>\n",
       "    <tr>\n",
       "      <th>6</th>\n",
       "      <td>BALLOONS  WRITING SET</td>\n",
       "      <td>0.726785</td>\n",
       "    </tr>\n",
       "    <tr>\n",
       "      <th>7</th>\n",
       "      <td>QUEEN OF SKIES LUGGAGE TAG</td>\n",
       "      <td>0.721041</td>\n",
       "    </tr>\n",
       "    <tr>\n",
       "      <th>8</th>\n",
       "      <td>SKULLS WRITING SET</td>\n",
       "      <td>0.720205</td>\n",
       "    </tr>\n",
       "    <tr>\n",
       "      <th>9</th>\n",
       "      <td>COLOURING PENCILS BROWN TUBE</td>\n",
       "      <td>0.713153</td>\n",
       "    </tr>\n",
       "  </tbody>\n",
       "</table>\n",
       "</div>"
      ],
      "text/plain": [
       "              Product description  Similarity score\n",
       "0  SMALL YELLOW BABUSHKA NOTEBOOK  0.985089        \n",
       "1  SMALL PURPLE BABUSHKA NOTEBOOK  0.984342        \n",
       "2  LARGE YELLOW BABUSHKA NOTEBOOK  0.964415        \n",
       "3  LARGE PURPLE BABUSHKA NOTEBOOK  0.963912        \n",
       "4  LARGE RED BABUSHKA NOTEBOOK     0.963047        \n",
       "5  GARDEN PATH JOURNAL             0.742419        \n",
       "6  BALLOONS  WRITING SET           0.726785        \n",
       "7  QUEEN OF SKIES LUGGAGE TAG      0.721041        \n",
       "8  SKULLS WRITING SET              0.720205        \n",
       "9  COLOURING PENCILS BROWN TUBE    0.713153        "
      ]
     },
     "execution_count": 52,
     "metadata": {},
     "output_type": "execute_result"
    }
   ],
   "source": [
    "get_most_similar('SMALL RED BABUSHKA NOTEBOOK')"
   ]
  },
  {
   "cell_type": "code",
   "execution_count": 53,
   "metadata": {},
   "outputs": [
    {
     "data": {
      "text/html": [
       "<div>\n",
       "<style scoped>\n",
       "    .dataframe tbody tr th:only-of-type {\n",
       "        vertical-align: middle;\n",
       "    }\n",
       "\n",
       "    .dataframe tbody tr th {\n",
       "        vertical-align: top;\n",
       "    }\n",
       "\n",
       "    .dataframe thead th {\n",
       "        text-align: right;\n",
       "    }\n",
       "</style>\n",
       "<table border=\"1\" class=\"dataframe\">\n",
       "  <thead>\n",
       "    <tr style=\"text-align: right;\">\n",
       "      <th></th>\n",
       "      <th>Product description</th>\n",
       "      <th>Similarity score</th>\n",
       "    </tr>\n",
       "  </thead>\n",
       "  <tbody>\n",
       "    <tr>\n",
       "      <th>0</th>\n",
       "      <td>RED WOOLLY HOTTIE WHITE HEART.</td>\n",
       "      <td>0.963275</td>\n",
       "    </tr>\n",
       "    <tr>\n",
       "      <th>1</th>\n",
       "      <td>ENGLISH ROSE HOT WATER BOTTLE</td>\n",
       "      <td>0.933622</td>\n",
       "    </tr>\n",
       "    <tr>\n",
       "      <th>2</th>\n",
       "      <td>SCOTTIE DOG HOT WATER BOTTLE</td>\n",
       "      <td>0.919502</td>\n",
       "    </tr>\n",
       "    <tr>\n",
       "      <th>3</th>\n",
       "      <td>GREY HEART HOT WATER BOTTLE</td>\n",
       "      <td>0.918314</td>\n",
       "    </tr>\n",
       "    <tr>\n",
       "      <th>4</th>\n",
       "      <td>CHARLIE+LOLA RED HOT WATER BOTTLE</td>\n",
       "      <td>0.910866</td>\n",
       "    </tr>\n",
       "    <tr>\n",
       "      <th>5</th>\n",
       "      <td>WHITE SKULL HOT WATER BOTTLE</td>\n",
       "      <td>0.897730</td>\n",
       "    </tr>\n",
       "    <tr>\n",
       "      <th>6</th>\n",
       "      <td>CHARLIE + LOLA RED HOT WATER BOTTLE</td>\n",
       "      <td>0.889034</td>\n",
       "    </tr>\n",
       "    <tr>\n",
       "      <th>7</th>\n",
       "      <td>RETROSPOT HEART HOT WATER BOTTLE</td>\n",
       "      <td>0.886205</td>\n",
       "    </tr>\n",
       "    <tr>\n",
       "      <th>8</th>\n",
       "      <td>CHARLIE+LOLA PINK HOT WATER BOTTLE</td>\n",
       "      <td>0.883331</td>\n",
       "    </tr>\n",
       "    <tr>\n",
       "      <th>9</th>\n",
       "      <td>CHOCOLATE HOT WATER BOTTLE</td>\n",
       "      <td>0.880112</td>\n",
       "    </tr>\n",
       "  </tbody>\n",
       "</table>\n",
       "</div>"
      ],
      "text/plain": [
       "                   Product description  Similarity score\n",
       "0  RED WOOLLY HOTTIE WHITE HEART.       0.963275        \n",
       "1  ENGLISH ROSE HOT WATER BOTTLE        0.933622        \n",
       "2  SCOTTIE DOG HOT WATER BOTTLE         0.919502        \n",
       "3  GREY HEART HOT WATER BOTTLE          0.918314        \n",
       "4  CHARLIE+LOLA RED HOT WATER BOTTLE    0.910866        \n",
       "5  WHITE SKULL HOT WATER BOTTLE         0.897730        \n",
       "6  CHARLIE + LOLA RED HOT WATER BOTTLE  0.889034        \n",
       "7  RETROSPOT HEART HOT WATER BOTTLE     0.886205        \n",
       "8  CHARLIE+LOLA PINK HOT WATER BOTTLE   0.883331        \n",
       "9  CHOCOLATE HOT WATER BOTTLE           0.880112        "
      ]
     },
     "execution_count": 53,
     "metadata": {},
     "output_type": "execute_result"
    }
   ],
   "source": [
    "get_most_similar('KNITTED UNION FLAG HOT WATER BOTTLE')"
   ]
  },
  {
   "cell_type": "markdown",
   "metadata": {},
   "source": [
    "<div class=\"alert alert-warning\">\n",
    "\n",
    "Solution_4_3_3\n",
    "    \n",
    "</div>"
   ]
  },
  {
   "cell_type": "markdown",
   "metadata": {},
   "source": [
    "The recommendations make sense for at least the top 5 suggestions for every product description. For 'SET 3 WICKER OVAL BASKETS W LIDS', the suggestions were a bit strange with things like lace or a mirror, but overall every other suggestion made sense."
   ]
  },
  {
   "cell_type": "markdown",
   "metadata": {},
   "source": [
    "<br><br>"
   ]
  },
  {
   "cell_type": "markdown",
   "metadata": {},
   "source": [
    "### (optional) 4.4 \n",
    "rubric={reasoning:1}\n",
    "\n",
    "**Your tasks:**\n",
    "\n",
    "1. Suppose you get a purchase history for a new customer which has `StockCode` of a new product, which was not present in the training data. Would your Word2Vec model be able to provide recommendations for this product? What about fastText? Does it make sense to use the `fastText` algorithm in this case instead of Word2Vec? What would be a reasonable recommendation strategy for new products? "
   ]
  },
  {
   "cell_type": "markdown",
   "metadata": {},
   "source": [
    "<div class=\"alert alert-warning\">\n",
    "\n",
    "Solution_4_4\n",
    "    \n",
    "</div>"
   ]
  },
  {
   "cell_type": "markdown",
   "metadata": {},
   "source": [
    "The word2vec model would not be able to provide recommendations for the new product as it was trained on product codes and buying patterns, we only added in the descriptions of the products after we trained and made predictions with the model. fastText wouldn't work here either as we still would have trained the model on product codes that do not show any similarity at all unless we add in another aspect (buying patterns). A recommendation strategy for new products would be to train a model (most likely fastText to better account for new words) on the product descriptions and then make a composite recommendation model that uses a trained word2vec model for stock codes and buying patterns and a trained fastText model for product descriptions."
   ]
  },
  {
   "cell_type": "markdown",
   "metadata": {},
   "source": [
    "<br><br><br><br>"
   ]
  },
  {
   "cell_type": "markdown",
   "metadata": {},
   "source": [
    "**PLEASE READ BEFORE YOU SUBMIT:** \n",
    "\n",
    "When you are ready to submit your assignment do the following:\n",
    "\n",
    "1. Run all cells in your notebook to make sure there are no errors by doing `Kernel -> Restart Kernel and Clear All Outputs` and then `Run -> Run All Cells`. \n",
    "2. Notebooks with cell execution numbers out of order or not starting from \"1\" will have marks deducted. Notebooks without the output displayed may not be graded at all (because we need to see the output in order to grade your work).\n",
    "3. Push all your work to your GitHub lab repository. \n",
    "4. Upload the assignment using Gradescope's drag and drop tool. Check out this [Gradescope Student Guide](https://lthub.ubc.ca/guides/gradescope-student-guide/) if you need help with Gradescope submission. \n",
    "5. Make sure that the plots and output are rendered properly in your submitted file. If the .ipynb file is too big and doesn't render on Gradescope, also upload a pdf or html in addition to the .ipynb so that the TAs can view your submission on Gradescope. "
   ]
  },
  {
   "cell_type": "markdown",
   "metadata": {},
   "source": [
    "Well done!! Congratulations on finishing the lab and have a restful weekend! "
   ]
  },
  {
   "cell_type": "markdown",
   "metadata": {},
   "source": [
    "![](eva-resting.png)"
   ]
  }
 ],
 "metadata": {
  "kernelspec": {
   "display_name": "Python [conda env:563]",
   "language": "python",
   "name": "conda-env-563-py"
  },
  "language_info": {
   "codemirror_mode": {
    "name": "ipython",
    "version": 3
   },
   "file_extension": ".py",
   "mimetype": "text/x-python",
   "name": "python",
   "nbconvert_exporter": "python",
   "pygments_lexer": "ipython3",
   "version": "3.9.10"
  }
 },
 "nbformat": 4,
 "nbformat_minor": 4
}
